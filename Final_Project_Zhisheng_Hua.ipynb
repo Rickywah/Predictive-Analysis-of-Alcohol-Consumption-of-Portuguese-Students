{
 "cells": [
  {
   "cell_type": "markdown",
   "metadata": {},
   "source": [
    "# STAT207 Final Project - Predictive Analysis of Alcohol Consumption of Portuguese Students\n",
    "\n",
    "\n",
    "Zhisheng Hua"
   ]
  },
  {
   "cell_type": "code",
   "execution_count": 1,
   "metadata": {},
   "outputs": [],
   "source": [
    "#Imports\n",
    "import pandas as pd\n",
    "import numpy as np\n",
    "import seaborn as sns\n",
    "import matplotlib.pyplot as plt\n",
    "\n",
    "import statsmodels.formula.api as smf\n",
    "from sklearn.preprocessing import StandardScaler\n",
    "from sklearn.linear_model import LogisticRegression\n",
    "from sklearn.model_selection import KFold\n",
    "from sklearn.model_selection import cross_val_score\n",
    "from sklearn.model_selection import train_test_split\n",
    "from sklearn.metrics import roc_auc_score\n",
    "from sklearn.metrics import roc_curve\n",
    "\n",
    "import warnings\n",
    "warnings.simplefilter(action='ignore', category=FutureWarning)"
   ]
  },
  {
   "cell_type": "markdown",
   "metadata": {},
   "source": [
    "## 1. Introduction"
   ]
  },
  {
   "cell_type": "markdown",
   "metadata": {},
   "source": [
    "This analysis aims to develop a predictive model for student weekend alcohol consumption (\"Walc\") based on attributes of secondary school students. Specifically, the primary research goal is to build a binary classification model to effectively predict whether students report low (1-2) or high (3-5) weekend drinking levels.\n",
    "\n",
    "School counselors and administrators could utilize such a model to identify students more likely to engage in problematic drinking. Middle schools and high schools have the ability to implement highly effective programs to reduce youth alcohol consumption.<sup>1</sup> The priority would be detecting high-risk students, rather than focusing on overall accuracy equally. Underage and binge drinking brings greater health and safety concerns according to the CDC<sup>2</sup>, so minimizing false negatives is key for intervention.\n",
    "\n",
    "At least five explanatory variables will be considered, encompassing: demographics like age and gender; family factors including quality of relationships (\"famrel\"); academic engagement through absences and extracurricular activities; and existing weekday drinking levels (\"Dalc\"). Both numerical and categorical inputs will be included.\n",
    "\n",
    "Predictive performance on new datasets is the primary research goal. The secondary goals are developing reliable interpretability into variable relationships, as well as thorough descriptive analytics of the data."
   ]
  },
  {
   "cell_type": "markdown",
   "metadata": {},
   "source": [
    "## 2. Dataset Discussion"
   ]
  },
  {
   "cell_type": "markdown",
   "metadata": {},
   "source": [
    "The dataset used in this analysis is the Student Alcohol Consumption dataset, which contains math and Portuguese grades and social attributes for students at two Portuguese secondary schools. The dataset was downloaded from the Kaggle on November 24, 2023 and originally contains 1044 rows representing individual students. The dataset can be found [here](https://www.kaggle.com/datasets/uciml/student-alcohol-consumption).\n",
    "\n",
    "The data was collected via surveys conducted at the two schools in 2008 (Cortez & Silva, 2008). As it only encompasses students from these schools, the observations are not necessarily inclusive of all student types in Portugal. Students from other regions or ethnic groups may be missing, potentially limiting what school administrators could infer from model results.\n",
    "\n",
    "The response variable selected is \"Walc\" - weekend alcohol consumption level. This five-level categorical variable indicates the frequency of a student's weekend drinking, from very low (1) to very high (5). It will be converted to a binary indicator of low (1-2) vs high (3-5) weekend drinking for the classification task.\n",
    "\n",
    "Seven explanatory variables were chosen covering demographics, academics, home life, and health. We also considered alcohol consumption during the week (Monday - Friday). \n",
    "\n",
    "numerical vars:   \n",
    "age - student's age in years  \n",
    "absences - number of times student was absent from school  \n",
    "studytime - hours of time spend studying during the week rated on a scale from 1 to 4  \n",
    "famrel - student's relationship with family rated on a scale from 1 to 5  \n",
    "health - student's current health status on a scale from 1 to 5  \n",
    "Dalc - student's level of alcohol consumption during the week on a scale from 1 to 5  \n",
    "\n",
    "categorical vars:  \n",
    "sex - male or female  \n",
    "\n",
    "These inputs provide diverse perspectives into personal and school factors believed to be associated with underage and binge drinking based on prior research studies. We will use the column names to refer to the explanatory variables from this point onward. "
   ]
  },
  {
   "cell_type": "code",
   "execution_count": 2,
   "metadata": {},
   "outputs": [
    {
     "data": {
      "text/html": [
       "<div>\n",
       "<style scoped>\n",
       "    .dataframe tbody tr th:only-of-type {\n",
       "        vertical-align: middle;\n",
       "    }\n",
       "\n",
       "    .dataframe tbody tr th {\n",
       "        vertical-align: top;\n",
       "    }\n",
       "\n",
       "    .dataframe thead th {\n",
       "        text-align: right;\n",
       "    }\n",
       "</style>\n",
       "<table border=\"1\" class=\"dataframe\">\n",
       "  <thead>\n",
       "    <tr style=\"text-align: right;\">\n",
       "      <th></th>\n",
       "      <th>school</th>\n",
       "      <th>sex</th>\n",
       "      <th>age</th>\n",
       "      <th>address</th>\n",
       "      <th>famsize</th>\n",
       "      <th>Pstatus</th>\n",
       "      <th>Medu</th>\n",
       "      <th>Fedu</th>\n",
       "      <th>Mjob</th>\n",
       "      <th>Fjob</th>\n",
       "      <th>...</th>\n",
       "      <th>famrel</th>\n",
       "      <th>freetime</th>\n",
       "      <th>goout</th>\n",
       "      <th>Dalc</th>\n",
       "      <th>Walc</th>\n",
       "      <th>health</th>\n",
       "      <th>absences</th>\n",
       "      <th>G1</th>\n",
       "      <th>G2</th>\n",
       "      <th>G3</th>\n",
       "    </tr>\n",
       "  </thead>\n",
       "  <tbody>\n",
       "    <tr>\n",
       "      <th>0</th>\n",
       "      <td>GP</td>\n",
       "      <td>F</td>\n",
       "      <td>18</td>\n",
       "      <td>U</td>\n",
       "      <td>GT3</td>\n",
       "      <td>A</td>\n",
       "      <td>4</td>\n",
       "      <td>4</td>\n",
       "      <td>at_home</td>\n",
       "      <td>teacher</td>\n",
       "      <td>...</td>\n",
       "      <td>4</td>\n",
       "      <td>3</td>\n",
       "      <td>4</td>\n",
       "      <td>1</td>\n",
       "      <td>1</td>\n",
       "      <td>3</td>\n",
       "      <td>4</td>\n",
       "      <td>0</td>\n",
       "      <td>11</td>\n",
       "      <td>11</td>\n",
       "    </tr>\n",
       "    <tr>\n",
       "      <th>1</th>\n",
       "      <td>GP</td>\n",
       "      <td>F</td>\n",
       "      <td>17</td>\n",
       "      <td>U</td>\n",
       "      <td>GT3</td>\n",
       "      <td>T</td>\n",
       "      <td>1</td>\n",
       "      <td>1</td>\n",
       "      <td>at_home</td>\n",
       "      <td>other</td>\n",
       "      <td>...</td>\n",
       "      <td>5</td>\n",
       "      <td>3</td>\n",
       "      <td>3</td>\n",
       "      <td>1</td>\n",
       "      <td>1</td>\n",
       "      <td>3</td>\n",
       "      <td>2</td>\n",
       "      <td>9</td>\n",
       "      <td>11</td>\n",
       "      <td>11</td>\n",
       "    </tr>\n",
       "    <tr>\n",
       "      <th>2</th>\n",
       "      <td>GP</td>\n",
       "      <td>F</td>\n",
       "      <td>15</td>\n",
       "      <td>U</td>\n",
       "      <td>LE3</td>\n",
       "      <td>T</td>\n",
       "      <td>1</td>\n",
       "      <td>1</td>\n",
       "      <td>at_home</td>\n",
       "      <td>other</td>\n",
       "      <td>...</td>\n",
       "      <td>4</td>\n",
       "      <td>3</td>\n",
       "      <td>2</td>\n",
       "      <td>2</td>\n",
       "      <td>3</td>\n",
       "      <td>3</td>\n",
       "      <td>6</td>\n",
       "      <td>12</td>\n",
       "      <td>13</td>\n",
       "      <td>12</td>\n",
       "    </tr>\n",
       "    <tr>\n",
       "      <th>3</th>\n",
       "      <td>GP</td>\n",
       "      <td>F</td>\n",
       "      <td>15</td>\n",
       "      <td>U</td>\n",
       "      <td>GT3</td>\n",
       "      <td>T</td>\n",
       "      <td>4</td>\n",
       "      <td>2</td>\n",
       "      <td>health</td>\n",
       "      <td>services</td>\n",
       "      <td>...</td>\n",
       "      <td>3</td>\n",
       "      <td>2</td>\n",
       "      <td>2</td>\n",
       "      <td>1</td>\n",
       "      <td>1</td>\n",
       "      <td>5</td>\n",
       "      <td>0</td>\n",
       "      <td>14</td>\n",
       "      <td>14</td>\n",
       "      <td>14</td>\n",
       "    </tr>\n",
       "    <tr>\n",
       "      <th>4</th>\n",
       "      <td>GP</td>\n",
       "      <td>F</td>\n",
       "      <td>16</td>\n",
       "      <td>U</td>\n",
       "      <td>GT3</td>\n",
       "      <td>T</td>\n",
       "      <td>3</td>\n",
       "      <td>3</td>\n",
       "      <td>other</td>\n",
       "      <td>other</td>\n",
       "      <td>...</td>\n",
       "      <td>4</td>\n",
       "      <td>3</td>\n",
       "      <td>2</td>\n",
       "      <td>1</td>\n",
       "      <td>2</td>\n",
       "      <td>5</td>\n",
       "      <td>0</td>\n",
       "      <td>11</td>\n",
       "      <td>13</td>\n",
       "      <td>13</td>\n",
       "    </tr>\n",
       "  </tbody>\n",
       "</table>\n",
       "<p>5 rows × 33 columns</p>\n",
       "</div>"
      ],
      "text/plain": [
       "  school sex  age address famsize Pstatus  Medu  Fedu     Mjob      Fjob  ...  \\\n",
       "0     GP   F   18       U     GT3       A     4     4  at_home   teacher  ...   \n",
       "1     GP   F   17       U     GT3       T     1     1  at_home     other  ...   \n",
       "2     GP   F   15       U     LE3       T     1     1  at_home     other  ...   \n",
       "3     GP   F   15       U     GT3       T     4     2   health  services  ...   \n",
       "4     GP   F   16       U     GT3       T     3     3    other     other  ...   \n",
       "\n",
       "  famrel freetime  goout  Dalc  Walc health absences  G1  G2  G3  \n",
       "0      4        3      4     1     1      3        4   0  11  11  \n",
       "1      5        3      3     1     1      3        2   9  11  11  \n",
       "2      4        3      2     2     3      3        6  12  13  12  \n",
       "3      3        2      2     1     1      5        0  14  14  14  \n",
       "4      4        3      2     1     2      5        0  11  13  13  \n",
       "\n",
       "[5 rows x 33 columns]"
      ]
     },
     "execution_count": 2,
     "metadata": {},
     "output_type": "execute_result"
    }
   ],
   "source": [
    "df_por = pd.read_csv('student-por.csv')\n",
    "df_mat = pd.read_csv('student-mat.csv') \n",
    "df = pd.concat([df_por, df_mat], axis=0)\n",
    "df.head()"
   ]
  },
  {
   "cell_type": "code",
   "execution_count": 3,
   "metadata": {},
   "outputs": [
    {
     "data": {
      "text/plain": [
       "1044"
      ]
     },
     "execution_count": 3,
     "metadata": {},
     "output_type": "execute_result"
    }
   ],
   "source": [
    "df.shape[0]"
   ]
  },
  {
   "cell_type": "markdown",
   "metadata": {},
   "source": [
    "## 3. Dataset Cleaning"
   ]
  },
  {
   "cell_type": "markdown",
   "metadata": {},
   "source": [
    "Firstly, we filtered our dataset to contain only the columns of interest.\n",
    "\n",
    "The student alcohol dataset does not contain any explicit missing values upon inspection. All 1044 rows have complete observations with no blank or null entries. Therefore no rows need to be dropped due to missing inputs. Avoiding case deletion preserves more information for analysis, though estimation techniques could have been used if needed.\n",
    "\n",
    "The dataset does not contain any implicit missing values either. Each numerical column has data of type int and sex has only \"M\" and \"F\" strings.\n",
    "\n",
    "The categorical explanatory variables like sex only have two levels, so no sample size issues exist that would warrant dropping any minority groups.\n",
    "\n",
    "Scatterplots revealed some outliers between pairs of our chosen numerical explanatory variables - age, absences, studytime weekly, famrel, health, and Dalc (weekday drinking). Specifically, absences had a couple of high outliers. We decided to drop students who had over 40 absences, which deleted 3 rows from our data. This means that our predictions will be less skewed towards extreme values; however, our predictions for weekend alcohol consumption will not be as accurate for students with over 40 absences. \n",
    "\n",
    "An additional step taken was converting the originally numeric Walc variable into a binary indicator of low (1-2) vs high (3-5) weekend drinking. This simplified the classification task to distinguish students of highest concern and supports more straightforward interpretability. No rows were dropped during this process."
   ]
  },
  {
   "cell_type": "code",
   "execution_count": 4,
   "metadata": {},
   "outputs": [],
   "source": [
    "df = df[['sex','age','absences','famrel','studytime','Dalc','health', 'Walc']]  "
   ]
  },
  {
   "cell_type": "code",
   "execution_count": 5,
   "metadata": {},
   "outputs": [
    {
     "name": "stdout",
     "output_type": "stream",
     "text": [
      "sex          0\n",
      "age          0\n",
      "absences     0\n",
      "famrel       0\n",
      "studytime    0\n",
      "Dalc         0\n",
      "health       0\n",
      "Walc         0\n",
      "dtype: int64\n"
     ]
    }
   ],
   "source": [
    "# Handle missing values\n",
    "print(df.isnull().sum())"
   ]
  },
  {
   "cell_type": "code",
   "execution_count": 6,
   "metadata": {},
   "outputs": [
    {
     "data": {
      "text/plain": [
       "sex          object\n",
       "age           int64\n",
       "absences      int64\n",
       "famrel        int64\n",
       "studytime     int64\n",
       "Dalc          int64\n",
       "health        int64\n",
       "Walc          int64\n",
       "dtype: object"
      ]
     },
     "execution_count": 6,
     "metadata": {},
     "output_type": "execute_result"
    }
   ],
   "source": [
    "df.dtypes"
   ]
  },
  {
   "cell_type": "code",
   "execution_count": 7,
   "metadata": {},
   "outputs": [
    {
     "name": "stdout",
     "output_type": "stream",
     "text": [
      "F    591\n",
      "M    453\n",
      "Name: sex, dtype: int64\n"
     ]
    }
   ],
   "source": [
    "print(df['sex'].value_counts()) "
   ]
  },
  {
   "cell_type": "code",
   "execution_count": 8,
   "metadata": {},
   "outputs": [],
   "source": [
    "df_1 = df.reset_index()"
   ]
  },
  {
   "cell_type": "code",
   "execution_count": 9,
   "metadata": {},
   "outputs": [
    {
     "data": {
      "image/png": "[encoded data removed]",
      "text/plain": [
       "<Figure size 1080x1080 with 42 Axes>"
      ]
     },
     "metadata": {
      "needs_background": "light"
     },
     "output_type": "display_data"
    }
   ],
   "source": [
    "sns.pairplot(df_1[['age', 'absences', 'studytime', 'famrel', 'Dalc', 'health']])\n",
    "plt.show()"
   ]
  },
  {
   "cell_type": "code",
   "execution_count": 10,
   "metadata": {},
   "outputs": [
    {
     "data": {
      "image/png": "[encoded data removed]",
      "text/plain": [
       "<Figure size 432x288 with 1 Axes>"
      ]
     },
     "metadata": {
      "needs_background": "light"
     },
     "output_type": "display_data"
    }
   ],
   "source": [
    "plt.hist(x='absences', data=df_1)\n",
    "plt.show()"
   ]
  },
  {
   "cell_type": "code",
   "execution_count": 11,
   "metadata": {},
   "outputs": [],
   "source": [
    "df = df[df.absences <= 40]"
   ]
  },
  {
   "cell_type": "code",
   "execution_count": 12,
   "metadata": {},
   "outputs": [
    {
     "data": {
      "text/plain": [
       "1041"
      ]
     },
     "execution_count": 12,
     "metadata": {},
     "output_type": "execute_result"
    }
   ],
   "source": [
    "df.shape[0]"
   ]
  },
  {
   "cell_type": "code",
   "execution_count": 13,
   "metadata": {},
   "outputs": [
    {
     "name": "stdout",
     "output_type": "stream",
     "text": [
      "Low     632\n",
      "High    409\n",
      "Name: Walc_class, dtype: int64\n"
     ]
    }
   ],
   "source": [
    "def classify_drinking(n):\n",
    "    if n <= 2:\n",
    "        return 'Low'\n",
    "    else: \n",
    "        return 'High'\n",
    "\n",
    "df['Walc_class'] = df['Walc'].apply(classify_drinking) \n",
    "\n",
    "print(df['Walc_class'].value_counts()) "
   ]
  },
  {
   "cell_type": "markdown",
   "metadata": {},
   "source": [
    "## 4. Preliminary Analysis"
   ]
  },
  {
   "cell_type": "markdown",
   "metadata": {},
   "source": [
    "Age and weekend alcohol consumption do not have an association with each other as there is a complete overlap between the two boxplots that represent low and high consumption. In comparison, absences, studytime, famrel, and Dalc all have a significant difference between the two boxplots, showing that they have an effect on the response variable.\n",
    "\n",
    "Sex is a categorical variable, so the relationship can be visualized as a barplot of the relative frequency of the observations in each category (low consumption and high consumption). It can be deduced that sex does affect alchol distribution, as there is a similar frequency of men in each category, but there is a higher frequency of women who consume a low amount of alcohol on the weekend."
   ]
  },
  {
   "cell_type": "code",
   "execution_count": 14,
   "metadata": {},
   "outputs": [
    {
     "data": {
      "image/png": "[encoded data removed]",
      "text/plain": [
       "<Figure size 432x288 with 1 Axes>"
      ]
     },
     "metadata": {
      "needs_background": "light"
     },
     "output_type": "display_data"
    }
   ],
   "source": [
    "sns.boxplot(x='age', y='Walc_class', data=df)\n",
    "plt.show()"
   ]
  },
  {
   "cell_type": "code",
   "execution_count": 15,
   "metadata": {},
   "outputs": [
    {
     "data": {
      "image/png": "[encoded data removed]",
      "text/plain": [
       "<Figure size 432x288 with 1 Axes>"
      ]
     },
     "metadata": {
      "needs_background": "light"
     },
     "output_type": "display_data"
    }
   ],
   "source": [
    "temp = pd.crosstab(df['sex'], df['Walc_class'], normalize='index')\n",
    "temp.plot.bar()\n",
    "plt.ylabel('Relative Frequency')\n",
    "plt.show()"
   ]
  },
  {
   "cell_type": "code",
   "execution_count": 16,
   "metadata": {},
   "outputs": [
    {
     "data": {
      "image/png": "[encoded data removed]",
      "text/plain": [
       "<Figure size 432x288 with 1 Axes>"
      ]
     },
     "metadata": {
      "needs_background": "light"
     },
     "output_type": "display_data"
    }
   ],
   "source": [
    "sns.boxplot(x='absences', y='Walc_class', data=df)\n",
    "plt.show()"
   ]
  },
  {
   "cell_type": "code",
   "execution_count": 17,
   "metadata": {},
   "outputs": [
    {
     "data": {
      "image/png": "[encoded data removed]",
      "text/plain": [
       "<Figure size 432x288 with 1 Axes>"
      ]
     },
     "metadata": {
      "needs_background": "light"
     },
     "output_type": "display_data"
    }
   ],
   "source": [
    "sns.boxplot(x='studytime', y='Walc_class', data=df)\n",
    "plt.show()"
   ]
  },
  {
   "cell_type": "code",
   "execution_count": 18,
   "metadata": {},
   "outputs": [
    {
     "data": {
      "image/png": "[encoded data removed]",
      "text/plain": [
       "<Figure size 432x288 with 1 Axes>"
      ]
     },
     "metadata": {
      "needs_background": "light"
     },
     "output_type": "display_data"
    }
   ],
   "source": [
    "sns.boxplot(x='famrel', y='Walc_class', data=df)\n",
    "plt.show()"
   ]
  },
  {
   "cell_type": "code",
   "execution_count": 19,
   "metadata": {},
   "outputs": [
    {
     "data": {
      "image/png": "[encoded data removed]",
      "text/plain": [
       "<Figure size 432x288 with 1 Axes>"
      ]
     },
     "metadata": {
      "needs_background": "light"
     },
     "output_type": "display_data"
    }
   ],
   "source": [
    "sns.boxplot(x='Dalc', y='Walc_class', data=df)\n",
    "plt.show()"
   ]
  },
  {
   "cell_type": "code",
   "execution_count": 20,
   "metadata": {},
   "outputs": [
    {
     "data": {
      "image/png": "[encoded data removed]",
      "text/plain": [
       "<Figure size 432x288 with 1 Axes>"
      ]
     },
     "metadata": {
      "needs_background": "light"
     },
     "output_type": "display_data"
    }
   ],
   "source": [
    "sns.boxplot(x='health', y='Walc_class', data=df)\n",
    "plt.show()"
   ]
  },
  {
   "cell_type": "markdown",
   "metadata": {},
   "source": [
    "Age, absences, studytime, famrel, Dalc, and health are all numerical explanatory variables, so the relationship can be visualized in a scatterplot. There are no significant correlations between any of the numerical variables as the r < 0.7 for all pairwise relationships. \n",
    "\n",
    "The relationship between sex and the numerical explanatory variables can be visualized in using boxplots. There is almost complete overlap between the boxplots for the two sexes for age and absences, suggesting that there is no relationship between these variables. There does seem to be a strong relationship between sex and studytime as well as famrel as women reported that they studied more than men and had worse relationships with their family on average. We can also see a relationship between Dalc and sex, as almsot all women report not drinking during the week, while the top 25 % of men rate themselves at either a 2 or 3. Finally, women seem to rate themselves slightly worse than men for health, which suggests a relationship between sex and healh."
   ]
  },
  {
   "cell_type": "code",
   "execution_count": 21,
   "metadata": {},
   "outputs": [
    {
     "data": {
      "image/png": "[encoded data removed]",
      "text/plain": [
       "<Figure size 1080x1080 with 42 Axes>"
      ]
     },
     "metadata": {
      "needs_background": "light"
     },
     "output_type": "display_data"
    }
   ],
   "source": [
    "sns.pairplot(df_1[['age', 'absences', 'studytime', 'famrel', 'Dalc', 'health']])\n",
    "plt.show()"
   ]
  },
  {
   "cell_type": "code",
   "execution_count": 22,
   "metadata": {},
   "outputs": [
    {
     "data": {
      "text/html": [
       "<div>\n",
       "<style scoped>\n",
       "    .dataframe tbody tr th:only-of-type {\n",
       "        vertical-align: middle;\n",
       "    }\n",
       "\n",
       "    .dataframe tbody tr th {\n",
       "        vertical-align: top;\n",
       "    }\n",
       "\n",
       "    .dataframe thead th {\n",
       "        text-align: right;\n",
       "    }\n",
       "</style>\n",
       "<table border=\"1\" class=\"dataframe\">\n",
       "  <thead>\n",
       "    <tr style=\"text-align: right;\">\n",
       "      <th></th>\n",
       "      <th>age</th>\n",
       "      <th>absences</th>\n",
       "      <th>studytime</th>\n",
       "      <th>famrel</th>\n",
       "      <th>Dalc</th>\n",
       "      <th>health</th>\n",
       "    </tr>\n",
       "  </thead>\n",
       "  <tbody>\n",
       "    <tr>\n",
       "      <th>age</th>\n",
       "      <td>1.000000</td>\n",
       "      <td>0.167398</td>\n",
       "      <td>-0.007898</td>\n",
       "      <td>0.006900</td>\n",
       "      <td>0.134332</td>\n",
       "      <td>-0.029279</td>\n",
       "    </tr>\n",
       "    <tr>\n",
       "      <th>absences</th>\n",
       "      <td>0.167398</td>\n",
       "      <td>1.000000</td>\n",
       "      <td>-0.088480</td>\n",
       "      <td>-0.083926</td>\n",
       "      <td>0.150458</td>\n",
       "      <td>-0.037365</td>\n",
       "    </tr>\n",
       "    <tr>\n",
       "      <th>studytime</th>\n",
       "      <td>-0.007898</td>\n",
       "      <td>-0.088480</td>\n",
       "      <td>1.000000</td>\n",
       "      <td>0.012288</td>\n",
       "      <td>-0.159754</td>\n",
       "      <td>-0.063214</td>\n",
       "    </tr>\n",
       "    <tr>\n",
       "      <th>famrel</th>\n",
       "      <td>0.006900</td>\n",
       "      <td>-0.083926</td>\n",
       "      <td>0.012288</td>\n",
       "      <td>1.000000</td>\n",
       "      <td>-0.077173</td>\n",
       "      <td>0.106253</td>\n",
       "    </tr>\n",
       "    <tr>\n",
       "      <th>Dalc</th>\n",
       "      <td>0.134332</td>\n",
       "      <td>0.150458</td>\n",
       "      <td>-0.159754</td>\n",
       "      <td>-0.077173</td>\n",
       "      <td>1.000000</td>\n",
       "      <td>0.066650</td>\n",
       "    </tr>\n",
       "    <tr>\n",
       "      <th>health</th>\n",
       "      <td>-0.029279</td>\n",
       "      <td>-0.037365</td>\n",
       "      <td>-0.063214</td>\n",
       "      <td>0.106253</td>\n",
       "      <td>0.066650</td>\n",
       "      <td>1.000000</td>\n",
       "    </tr>\n",
       "  </tbody>\n",
       "</table>\n",
       "</div>"
      ],
      "text/plain": [
       "                age  absences  studytime    famrel      Dalc    health\n",
       "age        1.000000  0.167398  -0.007898  0.006900  0.134332 -0.029279\n",
       "absences   0.167398  1.000000  -0.088480 -0.083926  0.150458 -0.037365\n",
       "studytime -0.007898 -0.088480   1.000000  0.012288 -0.159754 -0.063214\n",
       "famrel     0.006900 -0.083926   0.012288  1.000000 -0.077173  0.106253\n",
       "Dalc       0.134332  0.150458  -0.159754 -0.077173  1.000000  0.066650\n",
       "health    -0.029279 -0.037365  -0.063214  0.106253  0.066650  1.000000"
      ]
     },
     "execution_count": 22,
     "metadata": {},
     "output_type": "execute_result"
    }
   ],
   "source": [
    "df[['age', 'absences', 'studytime', 'famrel', 'Dalc', 'health']].corr()"
   ]
  },
  {
   "cell_type": "code",
   "execution_count": 23,
   "metadata": {},
   "outputs": [
    {
     "data": {
      "image/png": "[encoded data removed]",
      "text/plain": [
       "<Figure size 432x288 with 1 Axes>"
      ]
     },
     "metadata": {
      "needs_background": "light"
     },
     "output_type": "display_data"
    }
   ],
   "source": [
    "sns.boxplot(x='age', y='sex', data=df)\n",
    "plt.show()"
   ]
  },
  {
   "cell_type": "code",
   "execution_count": 24,
   "metadata": {},
   "outputs": [
    {
     "data": {
      "image/png": "[encoded data removed]",
      "text/plain": [
       "<Figure size 432x288 with 1 Axes>"
      ]
     },
     "metadata": {
      "needs_background": "light"
     },
     "output_type": "display_data"
    }
   ],
   "source": [
    "sns.boxplot(x='absences', y='sex', data=df)\n",
    "plt.show()"
   ]
  },
  {
   "cell_type": "code",
   "execution_count": 25,
   "metadata": {},
   "outputs": [
    {
     "data": {
      "image/png": "[encoded data removed]",
      "text/plain": [
       "<Figure size 432x288 with 1 Axes>"
      ]
     },
     "metadata": {
      "needs_background": "light"
     },
     "output_type": "display_data"
    }
   ],
   "source": [
    "sns.boxplot(x='studytime', y='sex', data=df)\n",
    "plt.show()"
   ]
  },
  {
   "cell_type": "code",
   "execution_count": 26,
   "metadata": {},
   "outputs": [
    {
     "data": {
      "image/png": "[encoded data removed]",
      "text/plain": [
       "<Figure size 432x288 with 1 Axes>"
      ]
     },
     "metadata": {
      "needs_background": "light"
     },
     "output_type": "display_data"
    }
   ],
   "source": [
    "sns.boxplot(x='famrel', y='sex', data=df)\n",
    "plt.show()"
   ]
  },
  {
   "cell_type": "code",
   "execution_count": 27,
   "metadata": {},
   "outputs": [
    {
     "data": {
      "image/png": "[encoded data removed]",
      "text/plain": [
       "<Figure size 432x288 with 1 Axes>"
      ]
     },
     "metadata": {
      "needs_background": "light"
     },
     "output_type": "display_data"
    }
   ],
   "source": [
    "sns.boxplot(x='Dalc', y='sex', data=df)\n",
    "plt.show()"
   ]
  },
  {
   "cell_type": "code",
   "execution_count": 28,
   "metadata": {},
   "outputs": [
    {
     "data": {
      "image/png": "[encoded data removed]",
      "text/plain": [
       "<Figure size 432x288 with 1 Axes>"
      ]
     },
     "metadata": {
      "needs_background": "light"
     },
     "output_type": "display_data"
    }
   ],
   "source": [
    "sns.boxplot(x='health', y='sex', data=df)\n",
    "plt.show()"
   ]
  },
  {
   "cell_type": "markdown",
   "metadata": {},
   "source": [
    "The only explanatory variable pair that shows an interaction in how it affects the response variable y is age and sex, as there is a noteable difference in shape of the sigmoid curves created from the logistic regression models. The coefficient values for age in the models differ based on the sex of the students. The other models only have slight differences based on sex. "
   ]
  },
  {
   "cell_type": "code",
   "execution_count": 29,
   "metadata": {},
   "outputs": [],
   "source": [
    "df['y'] = df['Walc_class'].replace({'High':1, 'Low':0})"
   ]
  },
  {
   "cell_type": "code",
   "execution_count": 30,
   "metadata": {},
   "outputs": [
    {
     "data": {
      "image/png": "[encoded data removed]",
      "text/plain": [
       "<Figure size 404.625x360 with 1 Axes>"
      ]
     },
     "metadata": {
      "needs_background": "light"
     },
     "output_type": "display_data"
    }
   ],
   "source": [
    "sns.lmplot(x='age', y='y', hue='sex', data=df, logistic=True, ci=False)\n",
    "plt.show()"
   ]
  },
  {
   "cell_type": "code",
   "execution_count": 31,
   "metadata": {},
   "outputs": [
    {
     "name": "stdout",
     "output_type": "stream",
     "text": [
      "Optimization terminated successfully.\n",
      "         Current function value: 0.667210\n",
      "         Iterations 5\n"
     ]
    },
    {
     "data": {
      "text/html": [
       "<table class=\"simpletable\">\n",
       "<tr>\n",
       "      <td></td>         <th>coef</th>     <th>std err</th>      <th>z</th>      <th>P>|z|</th>  <th>[0.025</th>    <th>0.975]</th>  \n",
       "</tr>\n",
       "<tr>\n",
       "  <th>Intercept</th> <td>   -5.7414</td> <td>    1.302</td> <td>   -4.410</td> <td> 0.000</td> <td>   -8.293</td> <td>   -3.190</td>\n",
       "</tr>\n",
       "<tr>\n",
       "  <th>age</th>       <td>    0.3522</td> <td>    0.078</td> <td>    4.505</td> <td> 0.000</td> <td>    0.199</td> <td>    0.505</td>\n",
       "</tr>\n",
       "</table>"
      ],
      "text/plain": [
       "<class 'statsmodels.iolib.table.SimpleTable'>"
      ]
     },
     "execution_count": 31,
     "metadata": {},
     "output_type": "execute_result"
    }
   ],
   "source": [
    "simple_log_model = smf.logit(\"y~age+sex\", data=df[df.sex == \"M\"]).fit()\n",
    "simple_log_model.summary().tables[1]"
   ]
  },
  {
   "cell_type": "code",
   "execution_count": 32,
   "metadata": {},
   "outputs": [
    {
     "name": "stdout",
     "output_type": "stream",
     "text": [
      "Optimization terminated successfully.\n",
      "         Current function value: 0.599755\n",
      "         Iterations 5\n"
     ]
    },
    {
     "data": {
      "text/html": [
       "<table class=\"simpletable\">\n",
       "<tr>\n",
       "      <td></td>         <th>coef</th>     <th>std err</th>      <th>z</th>      <th>P>|z|</th>  <th>[0.025</th>    <th>0.975]</th>  \n",
       "</tr>\n",
       "<tr>\n",
       "  <th>Intercept</th> <td>   -0.5480</td> <td>    1.294</td> <td>   -0.423</td> <td> 0.672</td> <td>   -3.084</td> <td>    1.988</td>\n",
       "</tr>\n",
       "<tr>\n",
       "  <th>age</th>       <td>   -0.0215</td> <td>    0.077</td> <td>   -0.279</td> <td> 0.780</td> <td>   -0.172</td> <td>    0.130</td>\n",
       "</tr>\n",
       "</table>"
      ],
      "text/plain": [
       "<class 'statsmodels.iolib.table.SimpleTable'>"
      ]
     },
     "execution_count": 32,
     "metadata": {},
     "output_type": "execute_result"
    }
   ],
   "source": [
    "simple_log_model = smf.logit(\"y~age+sex\", data=df[df.sex == \"F\"]).fit()\n",
    "simple_log_model.summary().tables[1]"
   ]
  },
  {
   "cell_type": "code",
   "execution_count": 33,
   "metadata": {},
   "outputs": [
    {
     "data": {
      "image/png": "[encoded data removed]",
      "text/plain": [
       "<Figure size 404.625x360 with 1 Axes>"
      ]
     },
     "metadata": {
      "needs_background": "light"
     },
     "output_type": "display_data"
    }
   ],
   "source": [
    "sns.lmplot(x='absences', y='y', hue='sex', data=df, logistic=True, ci=False)\n",
    "plt.show()"
   ]
  },
  {
   "cell_type": "code",
   "execution_count": 34,
   "metadata": {},
   "outputs": [
    {
     "name": "stdout",
     "output_type": "stream",
     "text": [
      "Optimization terminated successfully.\n",
      "         Current function value: 0.672574\n",
      "         Iterations 5\n"
     ]
    },
    {
     "data": {
      "text/html": [
       "<table class=\"simpletable\">\n",
       "<tr>\n",
       "      <td></td>         <th>coef</th>     <th>std err</th>      <th>z</th>      <th>P>|z|</th>  <th>[0.025</th>    <th>0.975]</th>  \n",
       "</tr>\n",
       "<tr>\n",
       "  <th>Intercept</th> <td>   -0.2165</td> <td>    0.126</td> <td>   -1.717</td> <td> 0.086</td> <td>   -0.464</td> <td>    0.031</td>\n",
       "</tr>\n",
       "<tr>\n",
       "  <th>absences</th>  <td>    0.0806</td> <td>    0.021</td> <td>    3.863</td> <td> 0.000</td> <td>    0.040</td> <td>    0.122</td>\n",
       "</tr>\n",
       "</table>"
      ],
      "text/plain": [
       "<class 'statsmodels.iolib.table.SimpleTable'>"
      ]
     },
     "execution_count": 34,
     "metadata": {},
     "output_type": "execute_result"
    }
   ],
   "source": [
    "simple_log_model = smf.logit(\"y~absences+sex\", data=df[df.sex == \"M\"]).fit()\n",
    "simple_log_model.summary().tables[1]"
   ]
  },
  {
   "cell_type": "code",
   "execution_count": 35,
   "metadata": {},
   "outputs": [
    {
     "name": "stdout",
     "output_type": "stream",
     "text": [
      "Optimization terminated successfully.\n",
      "         Current function value: 0.594592\n",
      "         Iterations 5\n"
     ]
    },
    {
     "data": {
      "text/html": [
       "<table class=\"simpletable\">\n",
       "<tr>\n",
       "      <td></td>         <th>coef</th>     <th>std err</th>      <th>z</th>      <th>P>|z|</th>  <th>[0.025</th>    <th>0.975]</th>  \n",
       "</tr>\n",
       "<tr>\n",
       "  <th>Intercept</th> <td>   -1.0836</td> <td>    0.117</td> <td>   -9.241</td> <td> 0.000</td> <td>   -1.313</td> <td>   -0.854</td>\n",
       "</tr>\n",
       "<tr>\n",
       "  <th>absences</th>  <td>    0.0396</td> <td>    0.016</td> <td>    2.498</td> <td> 0.013</td> <td>    0.009</td> <td>    0.071</td>\n",
       "</tr>\n",
       "</table>"
      ],
      "text/plain": [
       "<class 'statsmodels.iolib.table.SimpleTable'>"
      ]
     },
     "execution_count": 35,
     "metadata": {},
     "output_type": "execute_result"
    }
   ],
   "source": [
    "simple_log_model = smf.logit(\"y~absences+sex\", data=df[df.sex == \"F\"]).fit()\n",
    "simple_log_model.summary().tables[1]"
   ]
  },
  {
   "cell_type": "code",
   "execution_count": 36,
   "metadata": {},
   "outputs": [
    {
     "data": {
      "image/png": "[encoded data removed]",
      "text/plain": [
       "<Figure size 404.625x360 with 1 Axes>"
      ]
     },
     "metadata": {
      "needs_background": "light"
     },
     "output_type": "display_data"
    }
   ],
   "source": [
    "sns.lmplot(x='studytime', y='y', hue='sex', data=df, logistic=True, ci=False)\n",
    "plt.show()"
   ]
  },
  {
   "cell_type": "code",
   "execution_count": 37,
   "metadata": {},
   "outputs": [
    {
     "name": "stdout",
     "output_type": "stream",
     "text": [
      "Optimization terminated successfully.\n",
      "         Current function value: 0.679791\n",
      "         Iterations 4\n"
     ]
    },
    {
     "data": {
      "text/html": [
       "<table class=\"simpletable\">\n",
       "<tr>\n",
       "      <td></td>         <th>coef</th>     <th>std err</th>      <th>z</th>      <th>P>|z|</th>  <th>[0.025</th>    <th>0.975]</th>  \n",
       "</tr>\n",
       "<tr>\n",
       "  <th>Intercept</th> <td>    0.7795</td> <td>    0.228</td> <td>    3.421</td> <td> 0.001</td> <td>    0.333</td> <td>    1.226</td>\n",
       "</tr>\n",
       "<tr>\n",
       "  <th>studytime</th> <td>   -0.3789</td> <td>    0.119</td> <td>   -3.178</td> <td> 0.001</td> <td>   -0.613</td> <td>   -0.145</td>\n",
       "</tr>\n",
       "</table>"
      ],
      "text/plain": [
       "<class 'statsmodels.iolib.table.SimpleTable'>"
      ]
     },
     "execution_count": 37,
     "metadata": {},
     "output_type": "execute_result"
    }
   ],
   "source": [
    "simple_log_model = smf.logit(\"y~studytime+sex\", data=df[df.sex == \"M\"]).fit()\n",
    "simple_log_model.summary().tables[1]"
   ]
  },
  {
   "cell_type": "code",
   "execution_count": 38,
   "metadata": {},
   "outputs": [
    {
     "name": "stdout",
     "output_type": "stream",
     "text": [
      "Optimization terminated successfully.\n",
      "         Current function value: 0.594580\n",
      "         Iterations 5\n"
     ]
    },
    {
     "data": {
      "text/html": [
       "<table class=\"simpletable\">\n",
       "<tr>\n",
       "      <td></td>         <th>coef</th>     <th>std err</th>      <th>z</th>      <th>P>|z|</th>  <th>[0.025</th>    <th>0.975]</th>  \n",
       "</tr>\n",
       "<tr>\n",
       "  <th>Intercept</th> <td>   -0.3024</td> <td>    0.260</td> <td>   -1.164</td> <td> 0.244</td> <td>   -0.811</td> <td>    0.207</td>\n",
       "</tr>\n",
       "<tr>\n",
       "  <th>studytime</th> <td>   -0.2875</td> <td>    0.118</td> <td>   -2.444</td> <td> 0.015</td> <td>   -0.518</td> <td>   -0.057</td>\n",
       "</tr>\n",
       "</table>"
      ],
      "text/plain": [
       "<class 'statsmodels.iolib.table.SimpleTable'>"
      ]
     },
     "execution_count": 38,
     "metadata": {},
     "output_type": "execute_result"
    }
   ],
   "source": [
    "simple_log_model = smf.logit(\"y~studytime+sex\", data=df[df.sex == \"F\"]).fit()\n",
    "simple_log_model.summary().tables[1]"
   ]
  },
  {
   "cell_type": "code",
   "execution_count": 39,
   "metadata": {},
   "outputs": [
    {
     "data": {
      "image/png": "[encoded data removed]",
      "text/plain": [
       "<Figure size 404.625x360 with 1 Axes>"
      ]
     },
     "metadata": {
      "needs_background": "light"
     },
     "output_type": "display_data"
    }
   ],
   "source": [
    "sns.lmplot(x='famrel', y='y', hue='sex', data=df, logistic=True, ci=False)\n",
    "plt.show()"
   ]
  },
  {
   "cell_type": "code",
   "execution_count": 40,
   "metadata": {},
   "outputs": [
    {
     "name": "stdout",
     "output_type": "stream",
     "text": [
      "Optimization terminated successfully.\n",
      "         Current function value: 0.683843\n",
      "         Iterations 4\n"
     ]
    },
    {
     "data": {
      "text/html": [
       "<table class=\"simpletable\">\n",
       "<tr>\n",
       "      <td></td>         <th>coef</th>     <th>std err</th>      <th>z</th>      <th>P>|z|</th>  <th>[0.025</th>    <th>0.975]</th>  \n",
       "</tr>\n",
       "<tr>\n",
       "  <th>Intercept</th> <td>    1.2448</td> <td>    0.450</td> <td>    2.764</td> <td> 0.006</td> <td>    0.362</td> <td>    2.127</td>\n",
       "</tr>\n",
       "<tr>\n",
       "  <th>famrel</th>    <td>   -0.2795</td> <td>    0.109</td> <td>   -2.566</td> <td> 0.010</td> <td>   -0.493</td> <td>   -0.066</td>\n",
       "</tr>\n",
       "</table>"
      ],
      "text/plain": [
       "<class 'statsmodels.iolib.table.SimpleTable'>"
      ]
     },
     "execution_count": 40,
     "metadata": {},
     "output_type": "execute_result"
    }
   ],
   "source": [
    "simple_log_model = smf.logit(\"y~famrel+sex\", data=df[df.sex == \"M\"]).fit()\n",
    "simple_log_model.summary().tables[1]"
   ]
  },
  {
   "cell_type": "code",
   "execution_count": 41,
   "metadata": {},
   "outputs": [
    {
     "name": "stdout",
     "output_type": "stream",
     "text": [
      "Optimization terminated successfully.\n",
      "         Current function value: 0.596662\n",
      "         Iterations 5\n"
     ]
    },
    {
     "data": {
      "text/html": [
       "<table class=\"simpletable\">\n",
       "<tr>\n",
       "      <td></td>         <th>coef</th>     <th>std err</th>      <th>z</th>      <th>P>|z|</th>  <th>[0.025</th>    <th>0.975]</th>  \n",
       "</tr>\n",
       "<tr>\n",
       "  <th>Intercept</th> <td>   -0.2163</td> <td>    0.365</td> <td>   -0.592</td> <td> 0.554</td> <td>   -0.932</td> <td>    0.500</td>\n",
       "</tr>\n",
       "<tr>\n",
       "  <th>famrel</th>    <td>   -0.1802</td> <td>    0.093</td> <td>   -1.939</td> <td> 0.052</td> <td>   -0.362</td> <td>    0.002</td>\n",
       "</tr>\n",
       "</table>"
      ],
      "text/plain": [
       "<class 'statsmodels.iolib.table.SimpleTable'>"
      ]
     },
     "execution_count": 41,
     "metadata": {},
     "output_type": "execute_result"
    }
   ],
   "source": [
    "simple_log_model = smf.logit(\"y~famrel+sex\", data=df[df.sex == \"F\"]).fit()\n",
    "simple_log_model.summary().tables[1]"
   ]
  },
  {
   "cell_type": "code",
   "execution_count": 42,
   "metadata": {},
   "outputs": [
    {
     "data": {
      "image/png": "[encoded data removed]",
      "text/plain": [
       "<Figure size 404.625x360 with 1 Axes>"
      ]
     },
     "metadata": {
      "needs_background": "light"
     },
     "output_type": "display_data"
    }
   ],
   "source": [
    "sns.lmplot(x='Dalc', y='y', hue='sex', data=df, logistic=True, ci=False)\n",
    "plt.show()"
   ]
  },
  {
   "cell_type": "code",
   "execution_count": 43,
   "metadata": {},
   "outputs": [
    {
     "name": "stdout",
     "output_type": "stream",
     "text": [
      "Optimization terminated successfully.\n",
      "         Current function value: 0.517396\n",
      "         Iterations 7\n"
     ]
    },
    {
     "data": {
      "text/html": [
       "<table class=\"simpletable\">\n",
       "<tr>\n",
       "      <td></td>         <th>coef</th>     <th>std err</th>      <th>z</th>      <th>P>|z|</th>  <th>[0.025</th>    <th>0.975]</th>  \n",
       "</tr>\n",
       "<tr>\n",
       "  <th>Intercept</th> <td>   -2.5652</td> <td>    0.286</td> <td>   -8.973</td> <td> 0.000</td> <td>   -3.126</td> <td>   -2.005</td>\n",
       "</tr>\n",
       "<tr>\n",
       "  <th>Dalc</th>      <td>    1.7223</td> <td>    0.192</td> <td>    8.993</td> <td> 0.000</td> <td>    1.347</td> <td>    2.098</td>\n",
       "</tr>\n",
       "</table>"
      ],
      "text/plain": [
       "<class 'statsmodels.iolib.table.SimpleTable'>"
      ]
     },
     "execution_count": 43,
     "metadata": {},
     "output_type": "execute_result"
    }
   ],
   "source": [
    "simple_log_model = smf.logit(\"y~Dalc+sex\", data=df[df.sex == \"M\"]).fit()\n",
    "simple_log_model.summary().tables[1]"
   ]
  },
  {
   "cell_type": "code",
   "execution_count": 44,
   "metadata": {},
   "outputs": [
    {
     "name": "stdout",
     "output_type": "stream",
     "text": [
      "Optimization terminated successfully.\n",
      "         Current function value: 0.503496\n",
      "         Iterations 6\n"
     ]
    },
    {
     "data": {
      "text/html": [
       "<table class=\"simpletable\">\n",
       "<tr>\n",
       "      <td></td>         <th>coef</th>     <th>std err</th>      <th>z</th>      <th>P>|z|</th>  <th>[0.025</th>    <th>0.975]</th>  \n",
       "</tr>\n",
       "<tr>\n",
       "  <th>Intercept</th> <td>   -3.2592</td> <td>    0.285</td> <td>  -11.430</td> <td> 0.000</td> <td>   -3.818</td> <td>   -2.700</td>\n",
       "</tr>\n",
       "<tr>\n",
       "  <th>Dalc</th>      <td>    1.8168</td> <td>    0.211</td> <td>    8.595</td> <td> 0.000</td> <td>    1.402</td> <td>    2.231</td>\n",
       "</tr>\n",
       "</table>"
      ],
      "text/plain": [
       "<class 'statsmodels.iolib.table.SimpleTable'>"
      ]
     },
     "execution_count": 44,
     "metadata": {},
     "output_type": "execute_result"
    }
   ],
   "source": [
    "simple_log_model = smf.logit(\"y~Dalc+sex\", data=df[df.sex == \"F\"]).fit()\n",
    "simple_log_model.summary().tables[1]"
   ]
  },
  {
   "cell_type": "code",
   "execution_count": 45,
   "metadata": {},
   "outputs": [
    {
     "data": {
      "image/png": "[encoded data removed]",
      "text/plain": [
       "<Figure size 404.625x360 with 1 Axes>"
      ]
     },
     "metadata": {
      "needs_background": "light"
     },
     "output_type": "display_data"
    }
   ],
   "source": [
    "sns.lmplot(x='health', y='y', hue='sex', data=df, logistic=True, ci=False)\n",
    "plt.show()"
   ]
  },
  {
   "cell_type": "code",
   "execution_count": 46,
   "metadata": {},
   "outputs": [
    {
     "name": "stdout",
     "output_type": "stream",
     "text": [
      "Optimization terminated successfully.\n",
      "         Current function value: 0.684601\n",
      "         Iterations 4\n"
     ]
    },
    {
     "data": {
      "text/html": [
       "<table class=\"simpletable\">\n",
       "<tr>\n",
       "      <td></td>         <th>coef</th>     <th>std err</th>      <th>z</th>      <th>P>|z|</th>  <th>[0.025</th>    <th>0.975]</th>  \n",
       "</tr>\n",
       "<tr>\n",
       "  <th>Intercept</th> <td>   -0.5325</td> <td>    0.281</td> <td>   -1.894</td> <td> 0.058</td> <td>   -1.084</td> <td>    0.019</td>\n",
       "</tr>\n",
       "<tr>\n",
       "  <th>health</th>    <td>    0.1730</td> <td>    0.070</td> <td>    2.462</td> <td> 0.014</td> <td>    0.035</td> <td>    0.311</td>\n",
       "</tr>\n",
       "</table>"
      ],
      "text/plain": [
       "<class 'statsmodels.iolib.table.SimpleTable'>"
      ]
     },
     "execution_count": 46,
     "metadata": {},
     "output_type": "execute_result"
    }
   ],
   "source": [
    "simple_log_model = smf.logit(\"y~health+sex\", data=df[df.sex == \"M\"]).fit()\n",
    "simple_log_model.summary().tables[1]"
   ]
  },
  {
   "cell_type": "code",
   "execution_count": 47,
   "metadata": {},
   "outputs": [
    {
     "name": "stdout",
     "output_type": "stream",
     "text": [
      "Optimization terminated successfully.\n",
      "         Current function value: 0.599810\n",
      "         Iterations 5\n"
     ]
    },
    {
     "data": {
      "text/html": [
       "<table class=\"simpletable\">\n",
       "<tr>\n",
       "      <td></td>         <th>coef</th>     <th>std err</th>      <th>z</th>      <th>P>|z|</th>  <th>[0.025</th>    <th>0.975]</th>  \n",
       "</tr>\n",
       "<tr>\n",
       "  <th>Intercept</th> <td>   -0.8841</td> <td>    0.230</td> <td>   -3.845</td> <td> 0.000</td> <td>   -1.335</td> <td>   -0.433</td>\n",
       "</tr>\n",
       "<tr>\n",
       "  <th>health</th>    <td>   -0.0071</td> <td>    0.063</td> <td>   -0.113</td> <td> 0.910</td> <td>   -0.130</td> <td>    0.116</td>\n",
       "</tr>\n",
       "</table>"
      ],
      "text/plain": [
       "<class 'statsmodels.iolib.table.SimpleTable'>"
      ]
     },
     "execution_count": 47,
     "metadata": {},
     "output_type": "execute_result"
    }
   ],
   "source": [
    "simple_log_model = smf.logit(\"y~health+sex\", data=df[df.sex == \"F\"]).fit()\n",
    "simple_log_model.summary().tables[1]"
   ]
  },
  {
   "cell_type": "markdown",
   "metadata": {},
   "source": [
    "## 5. Model Data Preprocessing"
   ]
  },
  {
   "cell_type": "markdown",
   "metadata": {},
   "source": []
  },
  {
   "cell_type": "code",
   "execution_count": 48,
   "metadata": {},
   "outputs": [],
   "source": [
    "X = df.drop(['Walc_class', 'y', 'Walc'], axis=1)\n",
    "y = df['y']"
   ]
  },
  {
   "cell_type": "code",
   "execution_count": 49,
   "metadata": {},
   "outputs": [],
   "source": [
    "scaler_training = StandardScaler()\n",
    "scaled_exp_vars = scaler_training.fit_transform(X[['age', 'absences', 'studytime', 'famrel', 'Dalc', 'health']])\n",
    "X[['age', 'absences', 'studytime', 'famrel', 'Dalc', 'health']] = scaled_exp_vars"
   ]
  },
  {
   "cell_type": "code",
   "execution_count": 50,
   "metadata": {},
   "outputs": [
    {
     "data": {
      "text/html": [
       "<div>\n",
       "<style scoped>\n",
       "    .dataframe tbody tr th:only-of-type {\n",
       "        vertical-align: middle;\n",
       "    }\n",
       "\n",
       "    .dataframe tbody tr th {\n",
       "        vertical-align: top;\n",
       "    }\n",
       "\n",
       "    .dataframe thead th {\n",
       "        text-align: right;\n",
       "    }\n",
       "</style>\n",
       "<table border=\"1\" class=\"dataframe\">\n",
       "  <thead>\n",
       "    <tr style=\"text-align: right;\">\n",
       "      <th></th>\n",
       "      <th>age</th>\n",
       "      <th>absences</th>\n",
       "      <th>famrel</th>\n",
       "      <th>studytime</th>\n",
       "      <th>Dalc</th>\n",
       "      <th>health</th>\n",
       "      <th>sex_M</th>\n",
       "    </tr>\n",
       "  </thead>\n",
       "  <tbody>\n",
       "    <tr>\n",
       "      <th>0</th>\n",
       "      <td>1.027761</td>\n",
       "      <td>-0.050200</td>\n",
       "      <td>0.069959</td>\n",
       "      <td>0.035657</td>\n",
       "      <td>-0.541285</td>\n",
       "      <td>-0.381556</td>\n",
       "      <td>0</td>\n",
       "    </tr>\n",
       "    <tr>\n",
       "      <th>1</th>\n",
       "      <td>0.221507</td>\n",
       "      <td>-0.422145</td>\n",
       "      <td>1.140956</td>\n",
       "      <td>0.035657</td>\n",
       "      <td>-0.541285</td>\n",
       "      <td>-0.381556</td>\n",
       "      <td>0</td>\n",
       "    </tr>\n",
       "    <tr>\n",
       "      <th>2</th>\n",
       "      <td>-1.391001</td>\n",
       "      <td>0.321745</td>\n",
       "      <td>0.069959</td>\n",
       "      <td>0.035657</td>\n",
       "      <td>0.554975</td>\n",
       "      <td>-0.381556</td>\n",
       "      <td>0</td>\n",
       "    </tr>\n",
       "    <tr>\n",
       "      <th>3</th>\n",
       "      <td>-1.391001</td>\n",
       "      <td>-0.794089</td>\n",
       "      <td>-1.001037</td>\n",
       "      <td>1.233043</td>\n",
       "      <td>-0.541285</td>\n",
       "      <td>1.024460</td>\n",
       "      <td>0</td>\n",
       "    </tr>\n",
       "    <tr>\n",
       "      <th>4</th>\n",
       "      <td>-0.584747</td>\n",
       "      <td>-0.794089</td>\n",
       "      <td>0.069959</td>\n",
       "      <td>0.035657</td>\n",
       "      <td>-0.541285</td>\n",
       "      <td>1.024460</td>\n",
       "      <td>0</td>\n",
       "    </tr>\n",
       "  </tbody>\n",
       "</table>\n",
       "</div>"
      ],
      "text/plain": [
       "        age  absences    famrel  studytime      Dalc    health  sex_M\n",
       "0  1.027761 -0.050200  0.069959   0.035657 -0.541285 -0.381556      0\n",
       "1  0.221507 -0.422145  1.140956   0.035657 -0.541285 -0.381556      0\n",
       "2 -1.391001  0.321745  0.069959   0.035657  0.554975 -0.381556      0\n",
       "3 -1.391001 -0.794089 -1.001037   1.233043 -0.541285  1.024460      0\n",
       "4 -0.584747 -0.794089  0.069959   0.035657 -0.541285  1.024460      0"
      ]
     },
     "execution_count": 50,
     "metadata": {},
     "output_type": "execute_result"
    }
   ],
   "source": [
    "X = pd.get_dummies(X, drop_first = True, dtype = int)\n",
    "X.head()"
   ]
  },
  {
   "cell_type": "markdown",
   "metadata": {},
   "source": [
    "## 6. Feature Selection with k-Fold Cross-Validation"
   ]
  },
  {
   "cell_type": "code",
   "execution_count": 51,
   "metadata": {},
   "outputs": [
    {
     "data": {
      "text/plain": [
       "KFold(n_splits=5, random_state=100, shuffle=True)"
      ]
     },
     "execution_count": 51,
     "metadata": {},
     "output_type": "execute_result"
    }
   ],
   "source": [
    "cross_val = KFold(n_splits=5, shuffle=True, random_state=100) \n",
    "cross_val"
   ]
  },
  {
   "cell_type": "code",
   "execution_count": 52,
   "metadata": {},
   "outputs": [
    {
     "name": "stdout",
     "output_type": "stream",
     "text": [
      "Mean Test Fold AUC: 0.812095511183259\n"
     ]
    }
   ],
   "source": [
    "# Current model:\n",
    "\n",
    "current_mod = LogisticRegression(penalty = 'none',solver = 'newton-cg', max_iter = 1000)\n",
    "current_mod.fit(X,y)\n",
    "scores = cross_val_score(current_mod, X, y, cv=cross_val, scoring='roc_auc')\n",
    "print(\"Mean Test Fold AUC:\", scores.mean())"
   ]
  },
  {
   "cell_type": "code",
   "execution_count": 53,
   "metadata": {},
   "outputs": [
    {
     "name": "stdout",
     "output_type": "stream",
     "text": [
      "Mean Test Fold AUC: 0.8101133960928528\n"
     ]
    }
   ],
   "source": [
    "# Test models:\n",
    "\n",
    "X1 = X[['absences','famrel','studytime','sex_M','Dalc','health']]\n",
    "red_mod = LogisticRegression(penalty = 'none', solver = 'newton-cg', max_iter = 1000)\n",
    "red_mod.fit(X1,y)\n",
    "scores = cross_val_score(red_mod, X1, y, cv=cross_val, scoring='roc_auc')\n",
    "print(\"Mean Test Fold AUC:\", scores.mean())"
   ]
  },
  {
   "cell_type": "code",
   "execution_count": 54,
   "metadata": {},
   "outputs": [
    {
     "name": "stdout",
     "output_type": "stream",
     "text": [
      "Mean Test Fold AUC: 0.8087714884361809\n"
     ]
    }
   ],
   "source": [
    "X1 = X[['age','famrel','studytime','sex_M','Dalc','health']]\n",
    "red_mod = LogisticRegression(penalty = 'none', solver = 'newton-cg', max_iter = 1000)\n",
    "red_mod.fit(X1,y)\n",
    "scores = cross_val_score(red_mod, X1, y, cv=cross_val, scoring='roc_auc')\n",
    "print(\"Mean Test Fold AUC:\", scores.mean())"
   ]
  },
  {
   "cell_type": "code",
   "execution_count": 55,
   "metadata": {},
   "outputs": [
    {
     "name": "stdout",
     "output_type": "stream",
     "text": [
      "Mean Test Fold AUC: 0.81205626621024\n"
     ]
    }
   ],
   "source": [
    "X1 = X[['age','absences','studytime','sex_M','Dalc','health']]\n",
    "red_mod = LogisticRegression(penalty = 'none', solver = 'newton-cg', max_iter = 1000)\n",
    "red_mod.fit(X1,y)\n",
    "scores = cross_val_score(red_mod, X1, y, cv=cross_val, scoring='roc_auc')\n",
    "print(\"Mean Test Fold AUC:\", scores.mean())"
   ]
  },
  {
   "cell_type": "code",
   "execution_count": 56,
   "metadata": {},
   "outputs": [
    {
     "name": "stdout",
     "output_type": "stream",
     "text": [
      "Mean Test Fold AUC: 0.8083468877464284\n"
     ]
    }
   ],
   "source": [
    "X1 = X[['age','absences','famrel','sex_M','Dalc','health']]\n",
    "red_mod = LogisticRegression(penalty = 'none', solver = 'newton-cg', max_iter = 1000)\n",
    "red_mod.fit(X1,y)\n",
    "scores = cross_val_score(red_mod, X1, y, cv=cross_val, scoring='roc_auc')\n",
    "print(\"Mean Test Fold AUC:\", scores.mean())"
   ]
  },
  {
   "cell_type": "code",
   "execution_count": 57,
   "metadata": {},
   "outputs": [
    {
     "name": "stdout",
     "output_type": "stream",
     "text": [
      "Mean Test Fold AUC: 0.8040702506745845\n"
     ]
    }
   ],
   "source": [
    "X1 = X[['age','absences','famrel','studytime','Dalc','health']]\n",
    "red_mod = LogisticRegression(penalty = 'none', solver = 'newton-cg', max_iter = 1000)\n",
    "red_mod.fit(X1,y)\n",
    "scores = cross_val_score(red_mod, X1, y, cv=cross_val, scoring='roc_auc')\n",
    "print(\"Mean Test Fold AUC:\", scores.mean())"
   ]
  },
  {
   "cell_type": "code",
   "execution_count": 58,
   "metadata": {},
   "outputs": [
    {
     "name": "stdout",
     "output_type": "stream",
     "text": [
      "Mean Test Fold AUC: 0.683797927574143\n"
     ]
    }
   ],
   "source": [
    "X1 = X[['age','absences','famrel','studytime','sex_M','health']]\n",
    "red_mod = LogisticRegression(penalty = 'none', solver = 'newton-cg', max_iter = 1000)\n",
    "red_mod.fit(X1,y)\n",
    "scores = cross_val_score(red_mod, X1, y, cv=cross_val, scoring='roc_auc')\n",
    "print(\"Mean Test Fold AUC:\", scores.mean())"
   ]
  },
  {
   "cell_type": "code",
   "execution_count": 59,
   "metadata": {},
   "outputs": [
    {
     "name": "stdout",
     "output_type": "stream",
     "text": [
      "Mean Test Fold AUC: 0.8123646396682442\n"
     ]
    }
   ],
   "source": [
    "X1 = X[['age','absences','famrel','studytime','sex_M','Dalc']]\n",
    "red_mod = LogisticRegression(penalty = 'none', solver = 'newton-cg', max_iter = 1000)\n",
    "red_mod.fit(X1,y)\n",
    "scores = cross_val_score(red_mod, X1, y, cv=cross_val, scoring='roc_auc')\n",
    "print(\"Mean Test Fold AUC:\", scores.mean())"
   ]
  },
  {
   "cell_type": "code",
   "execution_count": 60,
   "metadata": {},
   "outputs": [
    {
     "name": "stdout",
     "output_type": "stream",
     "text": [
      "Mean Test Fold AUC: 0.8123646396682442\n"
     ]
    }
   ],
   "source": [
    "# Current model:\n",
    "\n",
    "X1 = X[['age','absences','famrel','studytime','sex_M','Dalc']]\n",
    "current_mod = LogisticRegression(penalty = 'none', solver = 'newton-cg', max_iter = 1000)\n",
    "current_mod.fit(X1,y)\n",
    "scores = cross_val_score(red_mod, X1, y, cv=cross_val, scoring='roc_auc')\n",
    "print(\"Mean Test Fold AUC:\", scores.mean())"
   ]
  },
  {
   "cell_type": "code",
   "execution_count": 61,
   "metadata": {},
   "outputs": [
    {
     "name": "stdout",
     "output_type": "stream",
     "text": [
      "Mean Test Fold AUC: 0.8104420019349263\n"
     ]
    }
   ],
   "source": [
    "# Test models: \n",
    "\n",
    "X2 = X[['absences','famrel','studytime','sex_M','Dalc']]\n",
    "red_mod = LogisticRegression(penalty = 'none', solver = 'newton-cg', max_iter = 1000)\n",
    "red_mod.fit(X2,y)\n",
    "scores = cross_val_score(current_mod, X2, y, cv=cross_val, scoring='roc_auc')\n",
    "print(\"Mean Test Fold AUC:\", scores.mean())"
   ]
  },
  {
   "cell_type": "code",
   "execution_count": 62,
   "metadata": {},
   "outputs": [
    {
     "name": "stdout",
     "output_type": "stream",
     "text": [
      "Mean Test Fold AUC: 0.8082393617647758\n"
     ]
    }
   ],
   "source": [
    "X2 = X[['age','famrel','studytime','sex_M','Dalc']]\n",
    "red_mod = LogisticRegression(penalty = 'none',solver = 'newton-cg', max_iter = 1000)\n",
    "red_mod.fit(X2,y)\n",
    "scores = cross_val_score(red_mod, X2, y, cv=cross_val, scoring='roc_auc')\n",
    "print(\"Mean Test Fold AUC:\", scores.mean())"
   ]
  },
  {
   "cell_type": "code",
   "execution_count": 63,
   "metadata": {},
   "outputs": [
    {
     "name": "stdout",
     "output_type": "stream",
     "text": [
      "Mean Test Fold AUC: 0.8119659094004661\n"
     ]
    }
   ],
   "source": [
    "X2 = X[['age','absences','studytime','sex_M','Dalc']]\n",
    "red_mod = LogisticRegression(penalty = 'none', solver = 'newton-cg', max_iter = 1000)\n",
    "red_mod.fit(X2,y)\n",
    "scores = cross_val_score(red_mod, X2, y, cv=cross_val, scoring='roc_auc')\n",
    "print(\"Mean Test Fold AUC:\", scores.mean())"
   ]
  },
  {
   "cell_type": "code",
   "execution_count": 64,
   "metadata": {},
   "outputs": [
    {
     "name": "stdout",
     "output_type": "stream",
     "text": [
      "Mean Test Fold AUC: 0.8094543388278839\n"
     ]
    }
   ],
   "source": [
    "X2 = X[['age','absences','famrel','sex_M','Dalc']]\n",
    "red_mod = LogisticRegression(penalty = 'none', solver = 'newton-cg', max_iter = 1000)\n",
    "red_mod.fit(X2,y)\n",
    "scores = cross_val_score(red_mod, X2, y, cv=cross_val, scoring='roc_auc')\n",
    "print(\"Mean Test Fold AUC:\", scores.mean())"
   ]
  },
  {
   "cell_type": "code",
   "execution_count": 65,
   "metadata": {},
   "outputs": [
    {
     "name": "stdout",
     "output_type": "stream",
     "text": [
      "Mean Test Fold AUC: 0.8030857858410172\n"
     ]
    }
   ],
   "source": [
    "X2 = X[['age','absences','famrel','studytime','Dalc']]\n",
    "red_mod = LogisticRegression(penalty = 'none', solver = 'newton-cg', max_iter = 1000)\n",
    "red_mod.fit(X2,y)\n",
    "scores = cross_val_score(red_mod, X2, y, cv=cross_val, scoring='roc_auc')\n",
    "print(\"Mean Test Fold AUC:\", scores.mean())"
   ]
  },
  {
   "cell_type": "markdown",
   "metadata": {},
   "source": [
    "The current model is the best model."
   ]
  },
  {
   "cell_type": "markdown",
   "metadata": {},
   "source": [
    "## 7. Best Model Discussion"
   ]
  },
  {
   "cell_type": "markdown",
   "metadata": {},
   "source": []
  },
  {
   "cell_type": "code",
   "execution_count": 66,
   "metadata": {},
   "outputs": [],
   "source": [
    "df_train, df_test = train_test_split(df, test_size = 0.2, random_state = 101)"
   ]
  },
  {
   "cell_type": "code",
   "execution_count": 67,
   "metadata": {},
   "outputs": [],
   "source": [
    "#y column\n",
    "df_train['y'] = df_train['Walc_class'].replace({'High':1, 'Low':0})\n",
    "df_test['y'] = df_test['Walc_class'].replace({'High':1, 'Low':0})\n",
    "\n",
    "#features matrix\n",
    "X_train = df_train.drop(['y', 'Walc', 'Walc_class'], axis=1)\n",
    "X_test = df_test.drop(['y', 'Walc', 'Walc_class'], axis=1)\n",
    "\n",
    "#target array\n",
    "y_train = df_train['y']\n",
    "y_test = df_test['y']\n",
    "\n",
    "#scaling training matrix\n",
    "scaler_training2 = StandardScaler()\n",
    "scaled_train_expl_vars = scaler_training2.fit_transform(X_train[['age', 'absences', 'famrel', 'studytime', 'Dalc', 'health']])\n",
    "X_train[['age', 'absences', 'famrel', 'studytime', 'Dalc', 'health']] = scaled_train_expl_vars\n",
    "\n",
    "#scaling test matrix\n",
    "scaled_test_expl_vars = scaler_training2.transform(X_test[['age', 'absences', 'famrel', 'studytime', 'Dalc', 'health']])\n",
    "X_test[['age', 'absences', 'famrel', 'studytime', 'Dalc', 'health']] = scaled_test_expl_vars\n",
    "\n",
    "#get dummies \n",
    "X_train = pd.get_dummies(X_train, drop_first = True, dtype = int)\n",
    "X_test = pd.get_dummies(X_test, drop_first = True, dtype = int)"
   ]
  },
  {
   "cell_type": "code",
   "execution_count": 68,
   "metadata": {},
   "outputs": [
    {
     "data": {
      "text/plain": [
       "LogisticRegression(max_iter=1000, penalty='none', solver='newton-cg')"
      ]
     },
     "execution_count": 68,
     "metadata": {},
     "output_type": "execute_result"
    }
   ],
   "source": [
    "X1_train = X_train[['age','absences','famrel','studytime','sex_M','Dalc']]\n",
    "current_mod.fit(X1_train,y_train)"
   ]
  },
  {
   "cell_type": "code",
   "execution_count": 69,
   "metadata": {},
   "outputs": [
    {
     "data": {
      "text/html": [
       "<div>\n",
       "<style scoped>\n",
       "    .dataframe tbody tr th:only-of-type {\n",
       "        vertical-align: middle;\n",
       "    }\n",
       "\n",
       "    .dataframe tbody tr th {\n",
       "        vertical-align: top;\n",
       "    }\n",
       "\n",
       "    .dataframe thead th {\n",
       "        text-align: right;\n",
       "    }\n",
       "</style>\n",
       "<table border=\"1\" class=\"dataframe\">\n",
       "  <thead>\n",
       "    <tr style=\"text-align: right;\">\n",
       "      <th></th>\n",
       "      <th>0</th>\n",
       "    </tr>\n",
       "  </thead>\n",
       "  <tbody>\n",
       "    <tr>\n",
       "      <th>age</th>\n",
       "      <td>0.041535</td>\n",
       "    </tr>\n",
       "    <tr>\n",
       "      <th>absences</th>\n",
       "      <td>0.219839</td>\n",
       "    </tr>\n",
       "    <tr>\n",
       "      <th>famrel</th>\n",
       "      <td>0.003408</td>\n",
       "    </tr>\n",
       "    <tr>\n",
       "      <th>studytime</th>\n",
       "      <td>-0.157731</td>\n",
       "    </tr>\n",
       "    <tr>\n",
       "      <th>sex_M</th>\n",
       "      <td>0.593116</td>\n",
       "    </tr>\n",
       "    <tr>\n",
       "      <th>Dalc</th>\n",
       "      <td>1.514443</td>\n",
       "    </tr>\n",
       "  </tbody>\n",
       "</table>\n",
       "</div>"
      ],
      "text/plain": [
       "                  0\n",
       "age        0.041535\n",
       "absences   0.219839\n",
       "famrel     0.003408\n",
       "studytime -0.157731\n",
       "sex_M      0.593116\n",
       "Dalc       1.514443"
      ]
     },
     "execution_count": 69,
     "metadata": {},
     "output_type": "execute_result"
    }
   ],
   "source": [
    "pd.DataFrame(current_mod.coef_.T,index = X1_train.columns)"
   ]
  },
  {
   "cell_type": "code",
   "execution_count": 70,
   "metadata": {},
   "outputs": [
    {
     "data": {
      "text/plain": [
       "array([-0.56214021])"
      ]
     },
     "execution_count": 70,
     "metadata": {},
     "output_type": "execute_result"
    }
   ],
   "source": [
    "current_mod.intercept_.T"
   ]
  },
  {
   "cell_type": "markdown",
   "metadata": {},
   "source": [
    "$\\hat{y}= -0.56214021 + 0.041535age + 0.219839absences + 0.003408famrel - 0.157731studytime + 0.593116sex_M + 1.514443Dalc$"
   ]
  },
  {
   "cell_type": "code",
   "execution_count": 71,
   "metadata": {},
   "outputs": [
    {
     "data": {
      "text/html": [
       "<div>\n",
       "<style scoped>\n",
       "    .dataframe tbody tr th:only-of-type {\n",
       "        vertical-align: middle;\n",
       "    }\n",
       "\n",
       "    .dataframe tbody tr th {\n",
       "        vertical-align: top;\n",
       "    }\n",
       "\n",
       "    .dataframe thead th {\n",
       "        text-align: right;\n",
       "    }\n",
       "</style>\n",
       "<table border=\"1\" class=\"dataframe\">\n",
       "  <thead>\n",
       "    <tr style=\"text-align: right;\">\n",
       "      <th></th>\n",
       "      <th>age</th>\n",
       "      <th>absences</th>\n",
       "      <th>famrel</th>\n",
       "      <th>studytime</th>\n",
       "      <th>sex_M</th>\n",
       "      <th>Dalc</th>\n",
       "    </tr>\n",
       "  </thead>\n",
       "  <tbody>\n",
       "    <tr>\n",
       "      <th>age</th>\n",
       "      <td>1.000000</td>\n",
       "      <td>0.153162</td>\n",
       "      <td>0.010699</td>\n",
       "      <td>-0.009408</td>\n",
       "      <td>-0.002103</td>\n",
       "      <td>0.131267</td>\n",
       "    </tr>\n",
       "    <tr>\n",
       "      <th>absences</th>\n",
       "      <td>0.153162</td>\n",
       "      <td>1.000000</td>\n",
       "      <td>-0.092347</td>\n",
       "      <td>-0.089768</td>\n",
       "      <td>-0.006896</td>\n",
       "      <td>0.125802</td>\n",
       "    </tr>\n",
       "    <tr>\n",
       "      <th>famrel</th>\n",
       "      <td>0.010699</td>\n",
       "      <td>-0.092347</td>\n",
       "      <td>1.000000</td>\n",
       "      <td>-0.013784</td>\n",
       "      <td>0.074262</td>\n",
       "      <td>-0.088514</td>\n",
       "    </tr>\n",
       "    <tr>\n",
       "      <th>studytime</th>\n",
       "      <td>-0.009408</td>\n",
       "      <td>-0.089768</td>\n",
       "      <td>-0.013784</td>\n",
       "      <td>1.000000</td>\n",
       "      <td>-0.219386</td>\n",
       "      <td>-0.155849</td>\n",
       "    </tr>\n",
       "    <tr>\n",
       "      <th>sex_M</th>\n",
       "      <td>-0.002103</td>\n",
       "      <td>-0.006896</td>\n",
       "      <td>0.074262</td>\n",
       "      <td>-0.219386</td>\n",
       "      <td>1.000000</td>\n",
       "      <td>0.249563</td>\n",
       "    </tr>\n",
       "    <tr>\n",
       "      <th>Dalc</th>\n",
       "      <td>0.131267</td>\n",
       "      <td>0.125802</td>\n",
       "      <td>-0.088514</td>\n",
       "      <td>-0.155849</td>\n",
       "      <td>0.249563</td>\n",
       "      <td>1.000000</td>\n",
       "    </tr>\n",
       "  </tbody>\n",
       "</table>\n",
       "</div>"
      ],
      "text/plain": [
       "                age  absences    famrel  studytime     sex_M      Dalc\n",
       "age        1.000000  0.153162  0.010699  -0.009408 -0.002103  0.131267\n",
       "absences   0.153162  1.000000 -0.092347  -0.089768 -0.006896  0.125802\n",
       "famrel     0.010699 -0.092347  1.000000  -0.013784  0.074262 -0.088514\n",
       "studytime -0.009408 -0.089768 -0.013784   1.000000 -0.219386 -0.155849\n",
       "sex_M     -0.002103 -0.006896  0.074262  -0.219386  1.000000  0.249563\n",
       "Dalc       0.131267  0.125802 -0.088514  -0.155849  0.249563  1.000000"
      ]
     },
     "execution_count": 71,
     "metadata": {},
     "output_type": "execute_result"
    }
   ],
   "source": [
    "X1_train.corr()"
   ]
  },
  {
   "cell_type": "markdown",
   "metadata": {},
   "source": [
    "Since there are no correlation coefficients above the 0.7 threshold the model doesn't have an issue with multicollinearity."
   ]
  },
  {
   "cell_type": "markdown",
   "metadata": {},
   "source": [
    "The explanatory variables in this model were scaled, so we can also interpret their slopes in terms of importance, in particular:\n",
    "1. The most important explanatory variable is 𝐷𝑎𝑙𝑐, with a slope of 1.514443\n",
    "2. The second most important explanatory variable is 𝑠𝑒𝑥𝑀, with a slope of 0.593116\n",
    "3. The third variable in terms of importance is 𝑎𝑏𝑠𝑒𝑛𝑐𝑒𝑠, with a slope of 0.219839\n",
    "4. The fourth variable is 𝑠𝑡𝑢𝑑𝑦𝑡𝑖𝑚𝑒, with a slope of −0.157731\n",
    "5. The fifth variable is 𝑎𝑔𝑒, with a slope of 0.041535\n",
    "6. The last variable is 𝑓𝑎𝑚𝑟𝑒𝑙, with a slope of 0.003408\n",
    "\n",
    "The variable \"health\" is not present in the final model, in order to understand why we can look at the stregth of the relationship between this variable and the other explanatory variables to look for multicollinearity:"
   ]
  },
  {
   "cell_type": "code",
   "execution_count": 72,
   "metadata": {},
   "outputs": [
    {
     "data": {
      "text/html": [
       "<div>\n",
       "<style scoped>\n",
       "    .dataframe tbody tr th:only-of-type {\n",
       "        vertical-align: middle;\n",
       "    }\n",
       "\n",
       "    .dataframe tbody tr th {\n",
       "        vertical-align: top;\n",
       "    }\n",
       "\n",
       "    .dataframe thead th {\n",
       "        text-align: right;\n",
       "    }\n",
       "</style>\n",
       "<table border=\"1\" class=\"dataframe\">\n",
       "  <thead>\n",
       "    <tr style=\"text-align: right;\">\n",
       "      <th></th>\n",
       "      <th>age</th>\n",
       "      <th>absences</th>\n",
       "      <th>famrel</th>\n",
       "      <th>studytime</th>\n",
       "      <th>Dalc</th>\n",
       "      <th>health</th>\n",
       "      <th>sex_M</th>\n",
       "    </tr>\n",
       "  </thead>\n",
       "  <tbody>\n",
       "    <tr>\n",
       "      <th>age</th>\n",
       "      <td>1.000000</td>\n",
       "      <td>0.153162</td>\n",
       "      <td>0.010699</td>\n",
       "      <td>-0.009408</td>\n",
       "      <td>0.131267</td>\n",
       "      <td>-0.012609</td>\n",
       "      <td>-0.002103</td>\n",
       "    </tr>\n",
       "    <tr>\n",
       "      <th>absences</th>\n",
       "      <td>0.153162</td>\n",
       "      <td>1.000000</td>\n",
       "      <td>-0.092347</td>\n",
       "      <td>-0.089768</td>\n",
       "      <td>0.125802</td>\n",
       "      <td>-0.051949</td>\n",
       "      <td>-0.006896</td>\n",
       "    </tr>\n",
       "    <tr>\n",
       "      <th>famrel</th>\n",
       "      <td>0.010699</td>\n",
       "      <td>-0.092347</td>\n",
       "      <td>1.000000</td>\n",
       "      <td>-0.013784</td>\n",
       "      <td>-0.088514</td>\n",
       "      <td>0.123954</td>\n",
       "      <td>0.074262</td>\n",
       "    </tr>\n",
       "    <tr>\n",
       "      <th>studytime</th>\n",
       "      <td>-0.009408</td>\n",
       "      <td>-0.089768</td>\n",
       "      <td>-0.013784</td>\n",
       "      <td>1.000000</td>\n",
       "      <td>-0.155849</td>\n",
       "      <td>-0.079774</td>\n",
       "      <td>-0.219386</td>\n",
       "    </tr>\n",
       "    <tr>\n",
       "      <th>Dalc</th>\n",
       "      <td>0.131267</td>\n",
       "      <td>0.125802</td>\n",
       "      <td>-0.088514</td>\n",
       "      <td>-0.155849</td>\n",
       "      <td>1.000000</td>\n",
       "      <td>0.083887</td>\n",
       "      <td>0.249563</td>\n",
       "    </tr>\n",
       "    <tr>\n",
       "      <th>health</th>\n",
       "      <td>-0.012609</td>\n",
       "      <td>-0.051949</td>\n",
       "      <td>0.123954</td>\n",
       "      <td>-0.079774</td>\n",
       "      <td>0.083887</td>\n",
       "      <td>1.000000</td>\n",
       "      <td>0.137236</td>\n",
       "    </tr>\n",
       "    <tr>\n",
       "      <th>sex_M</th>\n",
       "      <td>-0.002103</td>\n",
       "      <td>-0.006896</td>\n",
       "      <td>0.074262</td>\n",
       "      <td>-0.219386</td>\n",
       "      <td>0.249563</td>\n",
       "      <td>0.137236</td>\n",
       "      <td>1.000000</td>\n",
       "    </tr>\n",
       "  </tbody>\n",
       "</table>\n",
       "</div>"
      ],
      "text/plain": [
       "                age  absences    famrel  studytime      Dalc    health  \\\n",
       "age        1.000000  0.153162  0.010699  -0.009408  0.131267 -0.012609   \n",
       "absences   0.153162  1.000000 -0.092347  -0.089768  0.125802 -0.051949   \n",
       "famrel     0.010699 -0.092347  1.000000  -0.013784 -0.088514  0.123954   \n",
       "studytime -0.009408 -0.089768 -0.013784   1.000000 -0.155849 -0.079774   \n",
       "Dalc       0.131267  0.125802 -0.088514  -0.155849  1.000000  0.083887   \n",
       "health    -0.012609 -0.051949  0.123954  -0.079774  0.083887  1.000000   \n",
       "sex_M     -0.002103 -0.006896  0.074262  -0.219386  0.249563  0.137236   \n",
       "\n",
       "              sex_M  \n",
       "age       -0.002103  \n",
       "absences  -0.006896  \n",
       "famrel     0.074262  \n",
       "studytime -0.219386  \n",
       "Dalc       0.249563  \n",
       "health     0.137236  \n",
       "sex_M      1.000000  "
      ]
     },
     "execution_count": 72,
     "metadata": {},
     "output_type": "execute_result"
    }
   ],
   "source": [
    "X_train.corr()"
   ]
  },
  {
   "cell_type": "markdown",
   "metadata": {},
   "source": [
    "All the correlation coefficients are less than the 0.7 multicollinearity threshold, so it's not the issue. We can now look at the correlation with the response variable:"
   ]
  },
  {
   "cell_type": "code",
   "execution_count": 73,
   "metadata": {},
   "outputs": [
    {
     "data": {
      "text/html": [
       "<div>\n",
       "<style scoped>\n",
       "    .dataframe tbody tr th:only-of-type {\n",
       "        vertical-align: middle;\n",
       "    }\n",
       "\n",
       "    .dataframe tbody tr th {\n",
       "        vertical-align: top;\n",
       "    }\n",
       "\n",
       "    .dataframe thead th {\n",
       "        text-align: right;\n",
       "    }\n",
       "</style>\n",
       "<table border=\"1\" class=\"dataframe\">\n",
       "  <thead>\n",
       "    <tr style=\"text-align: right;\">\n",
       "      <th></th>\n",
       "      <th>y</th>\n",
       "      <th>health</th>\n",
       "    </tr>\n",
       "  </thead>\n",
       "  <tbody>\n",
       "    <tr>\n",
       "      <th>y</th>\n",
       "      <td>1.000000</td>\n",
       "      <td>0.098671</td>\n",
       "    </tr>\n",
       "    <tr>\n",
       "      <th>health</th>\n",
       "      <td>0.098671</td>\n",
       "      <td>1.000000</td>\n",
       "    </tr>\n",
       "  </tbody>\n",
       "</table>\n",
       "</div>"
      ],
      "text/plain": [
       "               y    health\n",
       "y       1.000000  0.098671\n",
       "health  0.098671  1.000000"
      ]
     },
     "execution_count": 73,
     "metadata": {},
     "output_type": "execute_result"
    }
   ],
   "source": [
    "res_corr = pd.concat([y_train,X_train.health],axis=1)\n",
    "res_corr.corr()"
   ]
  },
  {
   "cell_type": "markdown",
   "metadata": {},
   "source": [
    "The correlation between the variable health and the other explanatory variables doesn't show signs of multicollinearity, but its correlation with the response variable is really small, so the variable may not bring enough predictive power to the model."
   ]
  },
  {
   "cell_type": "markdown",
   "metadata": {},
   "source": [
    "We can now start our analysis on the test dataset:"
   ]
  },
  {
   "cell_type": "code",
   "execution_count": 74,
   "metadata": {},
   "outputs": [],
   "source": [
    "X1_test = X_test[['age','absences','famrel','studytime','sex_M','Dalc']]\n",
    "predictive_probs_test = current_mod.predict_proba(X1_test)[:,1]\n",
    "X1_test['predictive_prob']= predictive_probs_test"
   ]
  },
  {
   "cell_type": "code",
   "execution_count": 75,
   "metadata": {},
   "outputs": [],
   "source": [
    "def plot_roc(fpr, tpr, auc, lw=2):\n",
    "    plt.plot(fpr,tpr,color='darkorange', lw=lw, label = 'ROC curve (area ='+str(round(auc,3))+')')\n",
    "    plt.plot([0,1],[0,1], color='navy', lw=lw,linestyle = '--')\n",
    "    plt.xlabel('False Positive Rate')\n",
    "    plt.ylabel('True Positive Rate')\n",
    "    plt.title('ROC Curve')\n",
    "    plt.legend(loc = 'lower right')\n",
    "    plt.show()"
   ]
  },
  {
   "cell_type": "code",
   "execution_count": 76,
   "metadata": {},
   "outputs": [
    {
     "data": {
      "image/png": "[encoded data removed]",
      "text/plain": [
       "<Figure size 432x288 with 1 Axes>"
      ]
     },
     "metadata": {
      "needs_background": "light"
     },
     "output_type": "display_data"
    }
   ],
   "source": [
    "fprs, tprs, thresholds = roc_curve(y_true=y_test, y_score=predictive_probs_test)\n",
    "auc = roc_auc_score(y_true=y_test, y_score=predictive_probs_test)\n",
    "plot_roc(fprs, tprs, auc)"
   ]
  },
  {
   "cell_type": "code",
   "execution_count": 77,
   "metadata": {},
   "outputs": [
    {
     "data": {
      "text/plain": [
       "0.8403307888040712"
      ]
     },
     "execution_count": 77,
     "metadata": {},
     "output_type": "execute_result"
    }
   ],
   "source": [
    "auc = roc_auc_score(y_true = y_test,y_score = X1_test['predictive_prob'])\n",
    "auc"
   ]
  },
  {
   "cell_type": "markdown",
   "metadata": {},
   "source": [
    "This ROC curve has a AUC value of 0.8403307888040712. By using the current model we will not be able to find a predictive probability threshold that gives us close to perfect TPR and FPR values. In general the model is not perfect, and the AUC test value of 0.8403307888040712 makes it good enough in classifying the test dataset."
   ]
  },
  {
   "cell_type": "code",
   "execution_count": 78,
   "metadata": {},
   "outputs": [],
   "source": [
    "from sklearn.metrics import confusion_matrix\n",
    "def fpr_tpr_thresh(y,pred_prob,thresh):\n",
    "    yhat = 1*(pred_prob>= thresh)\n",
    "    tn,fp,fn,tp = confusion_matrix(y_true=y,y_pred = yhat).ravel()\n",
    "    tpr = tp/(fn+tp)\n",
    "    fpr = fp/(fp+tn)\n",
    "    return pd.DataFrame({'threshold':[thresh],'fpr':[fpr],'tpr':[tpr]})"
   ]
  },
  {
   "cell_type": "code",
   "execution_count": 79,
   "metadata": {},
   "outputs": [
    {
     "name": "stdout",
     "output_type": "stream",
     "text": [
      "   threshold  fpr  tpr\n",
      "0        0.0  1.0  1.0\n",
      "   threshold  fpr  tpr\n",
      "0      0.001  1.0  1.0\n",
      "   threshold  fpr  tpr\n",
      "0      0.002  1.0  1.0\n",
      "   threshold  fpr  tpr\n",
      "0      0.003  1.0  1.0\n",
      "   threshold  fpr  tpr\n",
      "0      0.004  1.0  1.0\n",
      "   threshold  fpr  tpr\n",
      "0      0.005  1.0  1.0\n",
      "   threshold  fpr  tpr\n",
      "0      0.006  1.0  1.0\n",
      "   threshold  fpr  tpr\n",
      "0      0.007  1.0  1.0\n",
      "   threshold  fpr  tpr\n",
      "0      0.008  1.0  1.0\n",
      "   threshold  fpr  tpr\n",
      "0      0.009  1.0  1.0\n",
      "   threshold  fpr  tpr\n",
      "0       0.01  1.0  1.0\n",
      "   threshold  fpr  tpr\n",
      "0      0.011  1.0  1.0\n",
      "   threshold  fpr  tpr\n",
      "0      0.012  1.0  1.0\n",
      "   threshold  fpr  tpr\n",
      "0      0.013  1.0  1.0\n",
      "   threshold  fpr  tpr\n",
      "0      0.014  1.0  1.0\n",
      "   threshold  fpr  tpr\n",
      "0      0.015  1.0  1.0\n",
      "   threshold  fpr  tpr\n",
      "0      0.016  1.0  1.0\n",
      "   threshold  fpr  tpr\n",
      "0      0.017  1.0  1.0\n",
      "   threshold  fpr  tpr\n",
      "0      0.018  1.0  1.0\n",
      "   threshold  fpr  tpr\n",
      "0      0.019  1.0  1.0\n",
      "   threshold  fpr  tpr\n",
      "0       0.02  1.0  1.0\n",
      "   threshold  fpr  tpr\n",
      "0      0.021  1.0  1.0\n",
      "   threshold  fpr  tpr\n",
      "0      0.022  1.0  1.0\n",
      "   threshold  fpr  tpr\n",
      "0      0.023  1.0  1.0\n",
      "   threshold  fpr  tpr\n",
      "0      0.024  1.0  1.0\n",
      "   threshold  fpr  tpr\n",
      "0      0.025  1.0  1.0\n",
      "   threshold  fpr  tpr\n",
      "0      0.026  1.0  1.0\n",
      "   threshold  fpr  tpr\n",
      "0      0.027  1.0  1.0\n",
      "   threshold  fpr  tpr\n",
      "0      0.028  1.0  1.0\n",
      "   threshold  fpr  tpr\n",
      "0      0.029  1.0  1.0\n",
      "   threshold  fpr  tpr\n",
      "0       0.03  1.0  1.0\n",
      "   threshold  fpr  tpr\n",
      "0      0.031  1.0  1.0\n",
      "   threshold  fpr  tpr\n",
      "0      0.032  1.0  1.0\n",
      "   threshold  fpr  tpr\n",
      "0      0.033  1.0  1.0\n",
      "   threshold  fpr  tpr\n",
      "0      0.034  1.0  1.0\n",
      "   threshold  fpr  tpr\n",
      "0      0.035  1.0  1.0\n",
      "   threshold  fpr  tpr\n",
      "0      0.036  1.0  1.0\n",
      "   threshold  fpr  tpr\n",
      "0      0.037  1.0  1.0\n",
      "   threshold  fpr  tpr\n",
      "0      0.038  1.0  1.0\n",
      "   threshold  fpr  tpr\n",
      "0      0.039  1.0  1.0\n",
      "   threshold  fpr  tpr\n",
      "0       0.04  1.0  1.0\n",
      "   threshold  fpr  tpr\n",
      "0      0.041  1.0  1.0\n",
      "   threshold  fpr  tpr\n",
      "0      0.042  1.0  1.0\n",
      "   threshold  fpr  tpr\n",
      "0      0.043  1.0  1.0\n",
      "   threshold  fpr  tpr\n",
      "0      0.044  1.0  1.0\n",
      "   threshold  fpr  tpr\n",
      "0      0.045  1.0  1.0\n",
      "   threshold  fpr  tpr\n",
      "0      0.046  1.0  1.0\n",
      "   threshold  fpr  tpr\n",
      "0      0.047  1.0  1.0\n",
      "   threshold  fpr  tpr\n",
      "0      0.048  1.0  1.0\n",
      "   threshold  fpr  tpr\n",
      "0      0.049  1.0  1.0\n",
      "   threshold  fpr  tpr\n",
      "0       0.05  1.0  1.0\n",
      "   threshold  fpr  tpr\n",
      "0      0.051  1.0  1.0\n",
      "   threshold  fpr  tpr\n",
      "0      0.052  1.0  1.0\n",
      "   threshold  fpr  tpr\n",
      "0      0.053  1.0  1.0\n",
      "   threshold  fpr  tpr\n",
      "0      0.054  1.0  1.0\n",
      "   threshold  fpr  tpr\n",
      "0      0.055  1.0  1.0\n",
      "   threshold  fpr  tpr\n",
      "0      0.056  1.0  1.0\n",
      "   threshold  fpr  tpr\n",
      "0      0.057  1.0  1.0\n",
      "   threshold  fpr  tpr\n",
      "0      0.058  1.0  1.0\n",
      "   threshold  fpr  tpr\n",
      "0      0.059  1.0  1.0\n",
      "   threshold  fpr  tpr\n",
      "0       0.06  1.0  1.0\n",
      "   threshold  fpr  tpr\n",
      "0      0.061  1.0  1.0\n",
      "   threshold  fpr  tpr\n",
      "0      0.062  1.0  1.0\n",
      "   threshold  fpr  tpr\n",
      "0      0.063  1.0  1.0\n",
      "   threshold  fpr  tpr\n",
      "0      0.064  1.0  1.0\n",
      "   threshold  fpr  tpr\n",
      "0      0.065  1.0  1.0\n",
      "   threshold  fpr  tpr\n",
      "0      0.066  1.0  1.0\n",
      "   threshold  fpr  tpr\n",
      "0      0.067  1.0  1.0\n",
      "   threshold  fpr  tpr\n",
      "0      0.068  1.0  1.0\n",
      "   threshold  fpr  tpr\n",
      "0      0.069  1.0  1.0\n",
      "   threshold  fpr  tpr\n",
      "0       0.07  1.0  1.0\n",
      "   threshold  fpr  tpr\n",
      "0      0.071  1.0  1.0\n",
      "   threshold  fpr  tpr\n",
      "0      0.072  1.0  1.0\n",
      "   threshold  fpr  tpr\n",
      "0      0.073  1.0  1.0\n",
      "   threshold  fpr  tpr\n",
      "0      0.074  1.0  1.0\n",
      "   threshold  fpr  tpr\n",
      "0      0.075  1.0  1.0\n",
      "   threshold  fpr  tpr\n",
      "0      0.076  1.0  1.0\n",
      "   threshold  fpr  tpr\n",
      "0      0.077  1.0  1.0\n",
      "   threshold  fpr  tpr\n",
      "0      0.078  1.0  1.0\n",
      "   threshold  fpr  tpr\n",
      "0      0.079  1.0  1.0\n",
      "   threshold  fpr  tpr\n",
      "0       0.08  1.0  1.0\n",
      "   threshold  fpr  tpr\n",
      "0      0.081  1.0  1.0\n",
      "   threshold  fpr  tpr\n",
      "0      0.082  1.0  1.0\n",
      "   threshold  fpr  tpr\n",
      "0      0.083  1.0  1.0\n",
      "   threshold  fpr  tpr\n",
      "0      0.084  1.0  1.0\n",
      "   threshold  fpr  tpr\n",
      "0      0.085  1.0  1.0\n",
      "   threshold  fpr  tpr\n",
      "0      0.086  1.0  1.0\n",
      "   threshold  fpr  tpr\n",
      "0      0.087  1.0  1.0\n",
      "   threshold  fpr  tpr\n",
      "0      0.088  1.0  1.0\n",
      "   threshold  fpr  tpr\n",
      "0      0.089  1.0  1.0\n",
      "   threshold  fpr  tpr\n",
      "0       0.09  1.0  1.0\n",
      "   threshold  fpr  tpr\n",
      "0      0.091  1.0  1.0\n",
      "   threshold  fpr  tpr\n",
      "0      0.092  1.0  1.0\n",
      "   threshold  fpr  tpr\n",
      "0      0.093  1.0  1.0\n",
      "   threshold  fpr  tpr\n",
      "0      0.094  1.0  1.0\n",
      "   threshold  fpr  tpr\n",
      "0      0.095  1.0  1.0\n",
      "   threshold  fpr  tpr\n",
      "0      0.096  1.0  1.0\n",
      "   threshold  fpr  tpr\n",
      "0      0.097  1.0  1.0\n",
      "   threshold  fpr  tpr\n",
      "0      0.098  1.0  1.0\n",
      "   threshold  fpr  tpr\n",
      "0      0.099  1.0  1.0\n",
      "   threshold  fpr  tpr\n",
      "0        0.1  1.0  1.0\n",
      "   threshold  fpr  tpr\n",
      "0      0.101  1.0  1.0\n",
      "   threshold  fpr  tpr\n",
      "0      0.102  1.0  1.0\n",
      "   threshold  fpr  tpr\n",
      "0      0.103  1.0  1.0\n",
      "   threshold  fpr  tpr\n",
      "0      0.104  1.0  1.0\n",
      "   threshold  fpr  tpr\n",
      "0      0.105  1.0  1.0\n",
      "   threshold  fpr  tpr\n",
      "0      0.106  1.0  1.0\n",
      "   threshold  fpr  tpr\n",
      "0      0.107  1.0  1.0\n",
      "   threshold  fpr  tpr\n",
      "0      0.108  1.0  1.0\n",
      "   threshold  fpr  tpr\n",
      "0      0.109  1.0  1.0\n",
      "   threshold  fpr  tpr\n",
      "0       0.11  1.0  1.0\n",
      "   threshold  fpr  tpr\n",
      "0      0.111  1.0  1.0\n",
      "   threshold  fpr  tpr\n",
      "0      0.112  1.0  1.0\n",
      "   threshold  fpr  tpr\n",
      "0      0.113  1.0  1.0\n",
      "   threshold  fpr  tpr\n",
      "0      0.114  1.0  1.0\n",
      "   threshold  fpr  tpr\n",
      "0      0.115  1.0  1.0\n",
      "   threshold  fpr  tpr\n",
      "0      0.116  1.0  1.0\n",
      "   threshold  fpr  tpr\n",
      "0      0.117  1.0  1.0\n",
      "   threshold  fpr  tpr\n",
      "0      0.118  1.0  1.0\n",
      "   threshold  fpr  tpr\n",
      "0      0.119  1.0  1.0\n",
      "   threshold  fpr  tpr\n",
      "0       0.12  1.0  1.0\n",
      "   threshold  fpr  tpr\n",
      "0      0.121  1.0  1.0\n",
      "   threshold  fpr  tpr\n",
      "0      0.122  1.0  1.0\n",
      "   threshold  fpr  tpr\n",
      "0      0.123  1.0  1.0\n",
      "   threshold  fpr  tpr\n",
      "0      0.124  1.0  1.0\n",
      "   threshold  fpr  tpr\n",
      "0      0.125  1.0  1.0\n",
      "   threshold  fpr  tpr\n",
      "0      0.126  1.0  1.0\n",
      "   threshold  fpr  tpr\n",
      "0      0.127  1.0  1.0\n",
      "   threshold  fpr  tpr\n",
      "0      0.128  1.0  1.0\n",
      "   threshold       fpr  tpr\n",
      "0      0.129  0.992366  1.0\n",
      "   threshold       fpr  tpr\n",
      "0       0.13  0.992366  1.0\n",
      "   threshold       fpr  tpr\n",
      "0      0.131  0.992366  1.0\n",
      "   threshold       fpr  tpr\n",
      "0      0.132  0.992366  1.0\n",
      "   threshold       fpr  tpr\n",
      "0      0.133  0.992366  1.0\n",
      "   threshold       fpr  tpr\n",
      "0      0.134  0.992366  1.0\n",
      "   threshold       fpr  tpr\n",
      "0      0.135  0.977099  1.0\n",
      "   threshold       fpr  tpr\n",
      "0      0.136  0.977099  1.0\n",
      "   threshold       fpr  tpr\n",
      "0      0.137  0.969466  1.0\n",
      "   threshold       fpr  tpr\n",
      "0      0.138  0.969466  1.0\n",
      "   threshold       fpr  tpr\n",
      "0      0.139  0.961832  1.0\n",
      "   threshold       fpr  tpr\n",
      "0       0.14  0.954198  1.0\n",
      "   threshold       fpr  tpr\n",
      "0      0.141  0.954198  1.0\n",
      "   threshold       fpr  tpr\n",
      "0      0.142  0.954198  1.0\n",
      "   threshold       fpr  tpr\n",
      "0      0.143  0.954198  1.0\n",
      "   threshold       fpr  tpr\n",
      "0      0.144  0.954198  1.0\n",
      "   threshold       fpr  tpr\n",
      "0      0.145  0.954198  1.0\n",
      "   threshold       fpr  tpr\n",
      "0      0.146  0.954198  1.0\n",
      "   threshold       fpr  tpr\n",
      "0      0.147  0.954198  1.0\n",
      "   threshold       fpr  tpr\n",
      "0      0.148  0.931298  1.0\n",
      "   threshold       fpr  tpr\n",
      "0      0.149  0.923664  1.0\n",
      "   threshold       fpr  tpr\n",
      "0       0.15  0.908397  1.0\n",
      "   threshold       fpr  tpr\n",
      "0      0.151  0.908397  1.0\n",
      "   threshold       fpr  tpr\n",
      "0      0.152  0.870229  1.0\n",
      "   threshold       fpr  tpr\n",
      "0      0.153  0.862595  1.0\n",
      "   threshold       fpr       tpr\n",
      "0      0.154  0.847328  0.987179\n",
      "   threshold       fpr       tpr\n",
      "0      0.155  0.847328  0.987179\n",
      "   threshold       fpr       tpr\n",
      "0      0.156  0.847328  0.987179\n",
      "   threshold       fpr       tpr\n",
      "0      0.157  0.839695  0.987179\n",
      "   threshold       fpr       tpr\n",
      "0      0.158  0.839695  0.987179\n",
      "   threshold       fpr       tpr\n",
      "0      0.159  0.839695  0.987179\n",
      "   threshold       fpr       tpr\n",
      "0       0.16  0.832061  0.987179\n",
      "   threshold       fpr       tpr\n",
      "0      0.161  0.832061  0.987179\n",
      "   threshold       fpr       tpr\n",
      "0      0.162  0.832061  0.987179\n",
      "   threshold       fpr       tpr\n",
      "0      0.163  0.824427  0.974359\n",
      "   threshold       fpr       tpr\n",
      "0      0.164  0.816794  0.974359\n",
      "   threshold       fpr       tpr\n",
      "0      0.165  0.816794  0.974359\n",
      "   threshold       fpr       tpr\n",
      "0      0.166  0.816794  0.974359\n",
      "   threshold       fpr       tpr\n",
      "0      0.167  0.801527  0.974359\n",
      "   threshold       fpr       tpr\n",
      "0      0.168  0.778626  0.974359\n",
      "   threshold       fpr       tpr\n",
      "0      0.169  0.755725  0.974359\n",
      "   threshold       fpr       tpr\n",
      "0       0.17  0.755725  0.974359\n",
      "   threshold       fpr       tpr\n",
      "0      0.171  0.755725  0.974359\n",
      "   threshold       fpr       tpr\n",
      "0      0.172  0.755725  0.974359\n",
      "   threshold       fpr       tpr\n",
      "0      0.173  0.748092  0.974359\n",
      "   threshold       fpr       tpr\n",
      "0      0.174  0.748092  0.974359\n",
      "   threshold       fpr       tpr\n",
      "0      0.175  0.748092  0.974359\n",
      "   threshold       fpr       tpr\n",
      "0      0.176  0.732824  0.974359\n",
      "   threshold      fpr       tpr\n",
      "0      0.177  0.70229  0.948718\n",
      "   threshold       fpr       tpr\n",
      "0      0.178  0.694656  0.948718\n",
      "   threshold       fpr       tpr\n",
      "0      0.179  0.687023  0.935897\n",
      "   threshold       fpr       tpr\n",
      "0       0.18  0.671756  0.923077\n",
      "   threshold       fpr       tpr\n",
      "0      0.181  0.664122  0.923077\n",
      "   threshold       fpr       tpr\n",
      "0      0.182  0.656489  0.910256\n",
      "   threshold       fpr       tpr\n",
      "0      0.183  0.648855  0.910256\n",
      "   threshold       fpr       tpr\n",
      "0      0.184  0.648855  0.910256\n",
      "   threshold       fpr       tpr\n",
      "0      0.185  0.618321  0.897436\n",
      "   threshold       fpr       tpr\n",
      "0      0.186  0.618321  0.897436\n",
      "   threshold       fpr       tpr\n",
      "0      0.187  0.618321  0.897436\n",
      "   threshold       fpr       tpr\n",
      "0      0.188  0.610687  0.897436\n",
      "   threshold       fpr       tpr\n",
      "0      0.189  0.610687  0.897436\n",
      "   threshold      fpr       tpr\n",
      "0       0.19  0.59542  0.897436\n",
      "   threshold      fpr       tpr\n",
      "0      0.191  0.59542  0.897436\n",
      "   threshold       fpr       tpr\n",
      "0      0.192  0.572519  0.897436\n",
      "   threshold       fpr       tpr\n",
      "0      0.193  0.572519  0.897436\n",
      "   threshold       fpr       tpr\n",
      "0      0.194  0.572519  0.897436\n",
      "   threshold       fpr       tpr\n",
      "0      0.195  0.564885  0.884615\n",
      "   threshold       fpr       tpr\n",
      "0      0.196  0.557252  0.884615\n",
      "   threshold       fpr       tpr\n",
      "0      0.197  0.549618  0.884615\n"
     ]
    },
    {
     "name": "stdout",
     "output_type": "stream",
     "text": [
      "   threshold       fpr       tpr\n",
      "0      0.198  0.541985  0.884615\n",
      "   threshold       fpr       tpr\n",
      "0      0.199  0.541985  0.884615\n",
      "   threshold       fpr       tpr\n",
      "0        0.2  0.541985  0.884615\n",
      "   threshold       fpr       tpr\n",
      "0      0.201  0.526718  0.884615\n",
      "   threshold       fpr       tpr\n",
      "0      0.202  0.526718  0.884615\n",
      "   threshold       fpr       tpr\n",
      "0      0.203  0.519084  0.884615\n",
      "   threshold      fpr       tpr\n",
      "0      0.204  0.51145  0.884615\n",
      "   threshold       fpr       tpr\n",
      "0      0.205  0.503817  0.884615\n",
      "   threshold       fpr       tpr\n",
      "0      0.206  0.503817  0.884615\n",
      "   threshold       fpr       tpr\n",
      "0      0.207  0.496183  0.884615\n",
      "   threshold       fpr       tpr\n",
      "0      0.208  0.496183  0.871795\n",
      "   threshold       fpr       tpr\n",
      "0      0.209  0.496183  0.871795\n",
      "   threshold       fpr       tpr\n",
      "0       0.21  0.496183  0.871795\n",
      "   threshold       fpr       tpr\n",
      "0      0.211  0.480916  0.871795\n",
      "   threshold       fpr       tpr\n",
      "0      0.212  0.480916  0.871795\n",
      "   threshold       fpr       tpr\n",
      "0      0.213  0.480916  0.871795\n",
      "   threshold       fpr       tpr\n",
      "0      0.214  0.480916  0.871795\n",
      "   threshold       fpr       tpr\n",
      "0      0.215  0.480916  0.871795\n",
      "   threshold       fpr       tpr\n",
      "0      0.216  0.480916  0.871795\n",
      "   threshold       fpr       tpr\n",
      "0      0.217  0.480916  0.871795\n",
      "   threshold       fpr       tpr\n",
      "0      0.218  0.473282  0.871795\n",
      "   threshold       fpr       tpr\n",
      "0      0.219  0.465649  0.871795\n",
      "   threshold       fpr       tpr\n",
      "0       0.22  0.465649  0.871795\n",
      "   threshold       fpr       tpr\n",
      "0      0.221  0.465649  0.871795\n",
      "   threshold       fpr       tpr\n",
      "0      0.222  0.465649  0.871795\n",
      "   threshold       fpr       tpr\n",
      "0      0.223  0.458015  0.871795\n",
      "   threshold       fpr       tpr\n",
      "0      0.224  0.458015  0.871795\n",
      "   threshold       fpr       tpr\n",
      "0      0.225  0.450382  0.871795\n",
      "   threshold       fpr       tpr\n",
      "0      0.226  0.450382  0.871795\n",
      "   threshold       fpr       tpr\n",
      "0      0.227  0.442748  0.871795\n",
      "   threshold       fpr       tpr\n",
      "0      0.228  0.435115  0.871795\n",
      "   threshold       fpr       tpr\n",
      "0      0.229  0.435115  0.871795\n",
      "   threshold       fpr       tpr\n",
      "0       0.23  0.427481  0.871795\n",
      "   threshold       fpr       tpr\n",
      "0      0.231  0.412214  0.871795\n",
      "   threshold       fpr       tpr\n",
      "0      0.232  0.412214  0.871795\n",
      "   threshold       fpr       tpr\n",
      "0      0.233  0.412214  0.858974\n",
      "   threshold       fpr       tpr\n",
      "0      0.234  0.412214  0.858974\n",
      "   threshold      fpr       tpr\n",
      "0      0.235  0.40458  0.858974\n",
      "   threshold      fpr       tpr\n",
      "0      0.236  0.40458  0.858974\n",
      "   threshold      fpr       tpr\n",
      "0      0.237  0.40458  0.858974\n",
      "   threshold       fpr       tpr\n",
      "0      0.238  0.389313  0.858974\n",
      "   threshold       fpr       tpr\n",
      "0      0.239  0.381679  0.858974\n",
      "   threshold       fpr       tpr\n",
      "0       0.24  0.381679  0.858974\n",
      "   threshold       fpr       tpr\n",
      "0      0.241  0.381679  0.858974\n",
      "   threshold       fpr       tpr\n",
      "0      0.242  0.381679  0.858974\n",
      "   threshold       fpr       tpr\n",
      "0      0.243  0.381679  0.858974\n",
      "   threshold       fpr       tpr\n",
      "0      0.244  0.381679  0.858974\n",
      "   threshold       fpr       tpr\n",
      "0      0.245  0.381679  0.846154\n",
      "   threshold       fpr       tpr\n",
      "0      0.246  0.381679  0.846154\n",
      "   threshold       fpr       tpr\n",
      "0      0.247  0.374046  0.833333\n",
      "   threshold       fpr       tpr\n",
      "0      0.248  0.374046  0.833333\n",
      "   threshold       fpr       tpr\n",
      "0      0.249  0.374046  0.833333\n",
      "   threshold       fpr       tpr\n",
      "0       0.25  0.374046  0.820513\n",
      "   threshold       fpr       tpr\n",
      "0      0.251  0.374046  0.807692\n",
      "   threshold       fpr       tpr\n",
      "0      0.252  0.374046  0.807692\n",
      "   threshold       fpr       tpr\n",
      "0      0.253  0.374046  0.807692\n",
      "   threshold       fpr       tpr\n",
      "0      0.254  0.374046  0.807692\n",
      "   threshold       fpr       tpr\n",
      "0      0.255  0.374046  0.807692\n",
      "   threshold       fpr       tpr\n",
      "0      0.256  0.374046  0.807692\n",
      "   threshold       fpr       tpr\n",
      "0      0.257  0.366412  0.807692\n",
      "   threshold       fpr       tpr\n",
      "0      0.258  0.358779  0.807692\n",
      "   threshold       fpr       tpr\n",
      "0      0.259  0.358779  0.807692\n",
      "   threshold       fpr       tpr\n",
      "0       0.26  0.358779  0.807692\n",
      "   threshold       fpr       tpr\n",
      "0      0.261  0.305344  0.807692\n",
      "   threshold      fpr       tpr\n",
      "0      0.262  0.29771  0.807692\n",
      "   threshold      fpr       tpr\n",
      "0      0.263  0.29771  0.807692\n",
      "   threshold       fpr       tpr\n",
      "0      0.264  0.290076  0.807692\n",
      "   threshold       fpr       tpr\n",
      "0      0.265  0.290076  0.807692\n",
      "   threshold       fpr       tpr\n",
      "0      0.266  0.290076  0.807692\n",
      "   threshold       fpr       tpr\n",
      "0      0.267  0.267176  0.807692\n",
      "   threshold       fpr       tpr\n",
      "0      0.268  0.267176  0.807692\n",
      "   threshold       fpr       tpr\n",
      "0      0.269  0.267176  0.807692\n",
      "   threshold       fpr       tpr\n",
      "0       0.27  0.259542  0.807692\n",
      "   threshold       fpr       tpr\n",
      "0      0.271  0.259542  0.807692\n",
      "   threshold       fpr       tpr\n",
      "0      0.272  0.259542  0.807692\n",
      "   threshold       fpr       tpr\n",
      "0      0.273  0.259542  0.807692\n",
      "   threshold       fpr       tpr\n",
      "0      0.274  0.259542  0.782051\n",
      "   threshold       fpr       tpr\n",
      "0      0.275  0.259542  0.782051\n",
      "   threshold       fpr       tpr\n",
      "0      0.276  0.259542  0.782051\n",
      "   threshold       fpr       tpr\n",
      "0      0.277  0.236641  0.782051\n",
      "   threshold       fpr       tpr\n",
      "0      0.278  0.229008  0.782051\n",
      "   threshold       fpr       tpr\n",
      "0      0.279  0.229008  0.782051\n",
      "   threshold       fpr       tpr\n",
      "0       0.28  0.229008  0.782051\n",
      "   threshold       fpr       tpr\n",
      "0      0.281  0.229008  0.782051\n",
      "   threshold       fpr       tpr\n",
      "0      0.282  0.229008  0.782051\n",
      "   threshold       fpr       tpr\n",
      "0      0.283  0.229008  0.782051\n",
      "   threshold       fpr       tpr\n",
      "0      0.284  0.221374  0.769231\n",
      "   threshold      fpr       tpr\n",
      "0      0.285  0.21374  0.769231\n",
      "   threshold      fpr       tpr\n",
      "0      0.286  0.21374  0.769231\n",
      "   threshold       fpr       tpr\n",
      "0      0.287  0.206107  0.769231\n",
      "   threshold       fpr       tpr\n",
      "0      0.288  0.206107  0.769231\n",
      "   threshold       fpr       tpr\n",
      "0      0.289  0.206107  0.769231\n",
      "   threshold       fpr       tpr\n",
      "0       0.29  0.198473  0.769231\n",
      "   threshold       fpr       tpr\n",
      "0      0.291  0.198473  0.769231\n",
      "   threshold       fpr       tpr\n",
      "0      0.292  0.198473  0.769231\n",
      "   threshold      fpr      tpr\n",
      "0      0.293  0.19084  0.75641\n",
      "   threshold       fpr      tpr\n",
      "0      0.294  0.175573  0.75641\n",
      "   threshold       fpr      tpr\n",
      "0      0.295  0.175573  0.75641\n",
      "   threshold       fpr      tpr\n",
      "0      0.296  0.175573  0.75641\n",
      "   threshold       fpr      tpr\n",
      "0      0.297  0.175573  0.75641\n",
      "   threshold       fpr      tpr\n",
      "0      0.298  0.175573  0.74359\n",
      "   threshold       fpr       tpr\n",
      "0      0.299  0.175573  0.730769\n",
      "   threshold       fpr       tpr\n",
      "0        0.3  0.175573  0.730769\n",
      "   threshold       fpr       tpr\n",
      "0      0.301  0.175573  0.730769\n",
      "   threshold       fpr       tpr\n",
      "0      0.302  0.175573  0.730769\n",
      "   threshold       fpr       tpr\n",
      "0      0.303  0.175573  0.730769\n",
      "   threshold       fpr       tpr\n",
      "0      0.304  0.175573  0.717949\n",
      "   threshold       fpr       tpr\n",
      "0      0.305  0.175573  0.717949\n",
      "   threshold       fpr       tpr\n",
      "0      0.306  0.160305  0.717949\n",
      "   threshold       fpr       tpr\n",
      "0      0.307  0.152672  0.717949\n",
      "   threshold       fpr       tpr\n",
      "0      0.308  0.145038  0.705128\n",
      "   threshold       fpr       tpr\n",
      "0      0.309  0.145038  0.705128\n",
      "   threshold       fpr       tpr\n",
      "0       0.31  0.145038  0.705128\n",
      "   threshold       fpr       tpr\n",
      "0      0.311  0.145038  0.705128\n",
      "   threshold       fpr       tpr\n",
      "0      0.312  0.137405  0.705128\n",
      "   threshold       fpr       tpr\n",
      "0      0.313  0.137405  0.705128\n",
      "   threshold       fpr       tpr\n",
      "0      0.314  0.137405  0.692308\n",
      "   threshold       fpr       tpr\n",
      "0      0.315  0.137405  0.692308\n",
      "   threshold       fpr       tpr\n",
      "0      0.316  0.137405  0.692308\n",
      "   threshold       fpr       tpr\n",
      "0      0.317  0.137405  0.692308\n",
      "   threshold       fpr       tpr\n",
      "0      0.318  0.137405  0.692308\n",
      "   threshold       fpr       tpr\n",
      "0      0.319  0.137405  0.679487\n",
      "   threshold       fpr       tpr\n",
      "0       0.32  0.137405  0.679487\n",
      "   threshold       fpr       tpr\n",
      "0      0.321  0.137405  0.679487\n",
      "   threshold       fpr       tpr\n",
      "0      0.322  0.137405  0.679487\n",
      "   threshold       fpr       tpr\n",
      "0      0.323  0.137405  0.679487\n",
      "   threshold       fpr       tpr\n",
      "0      0.324  0.137405  0.679487\n",
      "   threshold       fpr       tpr\n",
      "0      0.325  0.137405  0.679487\n",
      "   threshold       fpr       tpr\n",
      "0      0.326  0.137405  0.679487\n",
      "   threshold       fpr       tpr\n",
      "0      0.327  0.137405  0.679487\n",
      "   threshold       fpr       tpr\n",
      "0      0.328  0.137405  0.679487\n",
      "   threshold       fpr       tpr\n",
      "0      0.329  0.137405  0.679487\n",
      "   threshold       fpr       tpr\n",
      "0       0.33  0.122137  0.679487\n",
      "   threshold       fpr       tpr\n",
      "0      0.331  0.122137  0.679487\n",
      "   threshold       fpr       tpr\n",
      "0      0.332  0.122137  0.679487\n",
      "   threshold       fpr       tpr\n",
      "0      0.333  0.122137  0.679487\n",
      "   threshold       fpr       tpr\n",
      "0      0.334  0.122137  0.679487\n",
      "   threshold       fpr       tpr\n",
      "0      0.335  0.122137  0.679487\n",
      "   threshold       fpr       tpr\n",
      "0      0.336  0.122137  0.679487\n",
      "   threshold       fpr       tpr\n",
      "0      0.337  0.122137  0.679487\n",
      "   threshold       fpr       tpr\n",
      "0      0.338  0.122137  0.679487\n",
      "   threshold       fpr       tpr\n",
      "0      0.339  0.122137  0.679487\n",
      "   threshold       fpr       tpr\n",
      "0       0.34  0.122137  0.679487\n",
      "   threshold       fpr       tpr\n",
      "0      0.341  0.114504  0.679487\n",
      "   threshold       fpr       tpr\n",
      "0      0.342  0.114504  0.666667\n",
      "   threshold       fpr       tpr\n",
      "0      0.343  0.114504  0.666667\n",
      "   threshold       fpr       tpr\n",
      "0      0.344  0.114504  0.666667\n",
      "   threshold       fpr       tpr\n",
      "0      0.345  0.114504  0.666667\n",
      "   threshold       fpr       tpr\n",
      "0      0.346  0.114504  0.666667\n",
      "   threshold       fpr       tpr\n",
      "0      0.347  0.114504  0.666667\n",
      "   threshold       fpr       tpr\n",
      "0      0.348  0.114504  0.666667\n",
      "   threshold      fpr       tpr\n",
      "0      0.349  0.10687  0.666667\n",
      "   threshold      fpr       tpr\n",
      "0       0.35  0.10687  0.666667\n",
      "   threshold      fpr       tpr\n",
      "0      0.351  0.10687  0.666667\n",
      "   threshold      fpr       tpr\n",
      "0      0.352  0.10687  0.666667\n",
      "   threshold      fpr       tpr\n",
      "0      0.353  0.10687  0.666667\n",
      "   threshold      fpr       tpr\n",
      "0      0.354  0.10687  0.666667\n",
      "   threshold      fpr       tpr\n",
      "0      0.355  0.10687  0.666667\n",
      "   threshold      fpr       tpr\n",
      "0      0.356  0.10687  0.666667\n",
      "   threshold      fpr       tpr\n",
      "0      0.357  0.10687  0.666667\n",
      "   threshold      fpr       tpr\n",
      "0      0.358  0.10687  0.666667\n",
      "   threshold      fpr       tpr\n",
      "0      0.359  0.10687  0.666667\n",
      "   threshold      fpr       tpr\n",
      "0       0.36  0.10687  0.666667\n",
      "   threshold      fpr       tpr\n",
      "0      0.361  0.10687  0.666667\n",
      "   threshold       fpr       tpr\n",
      "0      0.362  0.099237  0.666667\n",
      "   threshold       fpr       tpr\n",
      "0      0.363  0.091603  0.666667\n",
      "   threshold       fpr       tpr\n",
      "0      0.364  0.091603  0.666667\n",
      "   threshold       fpr       tpr\n",
      "0      0.365  0.091603  0.666667\n",
      "   threshold       fpr       tpr\n",
      "0      0.366  0.091603  0.653846\n",
      "   threshold       fpr       tpr\n",
      "0      0.367  0.091603  0.653846\n",
      "   threshold       fpr       tpr\n"
     ]
    },
    {
     "name": "stdout",
     "output_type": "stream",
     "text": [
      "0      0.368  0.091603  0.653846\n",
      "   threshold       fpr       tpr\n",
      "0      0.369  0.091603  0.653846\n",
      "   threshold       fpr       tpr\n",
      "0       0.37  0.083969  0.653846\n",
      "   threshold       fpr       tpr\n",
      "0      0.371  0.083969  0.653846\n",
      "   threshold       fpr       tpr\n",
      "0      0.372  0.083969  0.653846\n",
      "   threshold       fpr       tpr\n",
      "0      0.373  0.083969  0.653846\n",
      "   threshold       fpr       tpr\n",
      "0      0.374  0.076336  0.653846\n",
      "   threshold       fpr       tpr\n",
      "0      0.375  0.076336  0.641026\n",
      "   threshold       fpr       tpr\n",
      "0      0.376  0.076336  0.641026\n",
      "   threshold       fpr       tpr\n",
      "0      0.377  0.076336  0.641026\n",
      "   threshold       fpr       tpr\n",
      "0      0.378  0.076336  0.641026\n",
      "   threshold       fpr       tpr\n",
      "0      0.379  0.076336  0.628205\n",
      "   threshold       fpr       tpr\n",
      "0       0.38  0.076336  0.628205\n",
      "   threshold       fpr       tpr\n",
      "0      0.381  0.076336  0.628205\n",
      "   threshold       fpr       tpr\n",
      "0      0.382  0.076336  0.628205\n",
      "   threshold       fpr       tpr\n",
      "0      0.383  0.076336  0.628205\n",
      "   threshold       fpr       tpr\n",
      "0      0.384  0.076336  0.628205\n",
      "   threshold       fpr       tpr\n",
      "0      0.385  0.076336  0.628205\n",
      "   threshold       fpr       tpr\n",
      "0      0.386  0.076336  0.628205\n",
      "   threshold       fpr       tpr\n",
      "0      0.387  0.076336  0.628205\n",
      "   threshold       fpr       tpr\n",
      "0      0.388  0.076336  0.628205\n",
      "   threshold       fpr       tpr\n",
      "0      0.389  0.076336  0.628205\n",
      "   threshold       fpr       tpr\n",
      "0       0.39  0.076336  0.628205\n",
      "   threshold       fpr       tpr\n",
      "0      0.391  0.076336  0.628205\n",
      "   threshold       fpr       tpr\n",
      "0      0.392  0.076336  0.628205\n",
      "   threshold       fpr       tpr\n",
      "0      0.393  0.076336  0.628205\n",
      "   threshold       fpr       tpr\n",
      "0      0.394  0.076336  0.628205\n",
      "   threshold       fpr       tpr\n",
      "0      0.395  0.076336  0.628205\n",
      "   threshold       fpr       tpr\n",
      "0      0.396  0.076336  0.628205\n",
      "   threshold       fpr       tpr\n",
      "0      0.397  0.076336  0.628205\n",
      "   threshold       fpr       tpr\n",
      "0      0.398  0.076336  0.628205\n",
      "   threshold       fpr       tpr\n",
      "0      0.399  0.076336  0.628205\n",
      "   threshold       fpr       tpr\n",
      "0        0.4  0.076336  0.628205\n",
      "   threshold       fpr       tpr\n",
      "0      0.401  0.076336  0.628205\n",
      "   threshold       fpr       tpr\n",
      "0      0.402  0.076336  0.628205\n",
      "   threshold       fpr       tpr\n",
      "0      0.403  0.076336  0.628205\n",
      "   threshold       fpr       tpr\n",
      "0      0.404  0.076336  0.628205\n",
      "   threshold       fpr       tpr\n",
      "0      0.405  0.076336  0.628205\n",
      "   threshold       fpr       tpr\n",
      "0      0.406  0.076336  0.628205\n",
      "   threshold       fpr       tpr\n",
      "0      0.407  0.076336  0.628205\n",
      "   threshold       fpr       tpr\n",
      "0      0.408  0.076336  0.628205\n",
      "   threshold       fpr       tpr\n",
      "0      0.409  0.076336  0.628205\n",
      "   threshold       fpr       tpr\n",
      "0       0.41  0.076336  0.628205\n",
      "   threshold       fpr       tpr\n",
      "0      0.411  0.076336  0.628205\n",
      "   threshold       fpr       tpr\n",
      "0      0.412  0.076336  0.628205\n",
      "   threshold       fpr       tpr\n",
      "0      0.413  0.076336  0.628205\n",
      "   threshold       fpr       tpr\n",
      "0      0.414  0.076336  0.628205\n",
      "   threshold       fpr       tpr\n",
      "0      0.415  0.076336  0.628205\n",
      "   threshold       fpr       tpr\n",
      "0      0.416  0.076336  0.628205\n",
      "   threshold       fpr       tpr\n",
      "0      0.417  0.076336  0.628205\n",
      "   threshold       fpr       tpr\n",
      "0      0.418  0.076336  0.628205\n",
      "   threshold       fpr       tpr\n",
      "0      0.419  0.076336  0.628205\n",
      "   threshold       fpr       tpr\n",
      "0       0.42  0.076336  0.628205\n",
      "   threshold       fpr       tpr\n",
      "0      0.421  0.076336  0.628205\n",
      "   threshold       fpr       tpr\n",
      "0      0.422  0.076336  0.628205\n",
      "   threshold       fpr       tpr\n",
      "0      0.423  0.076336  0.628205\n",
      "   threshold       fpr       tpr\n",
      "0      0.424  0.076336  0.628205\n",
      "   threshold       fpr       tpr\n",
      "0      0.425  0.076336  0.628205\n",
      "   threshold       fpr       tpr\n",
      "0      0.426  0.076336  0.628205\n",
      "   threshold       fpr       tpr\n",
      "0      0.427  0.076336  0.628205\n",
      "   threshold       fpr       tpr\n",
      "0      0.428  0.076336  0.628205\n",
      "   threshold       fpr       tpr\n",
      "0      0.429  0.076336  0.628205\n",
      "   threshold       fpr       tpr\n",
      "0       0.43  0.076336  0.628205\n",
      "   threshold       fpr       tpr\n",
      "0      0.431  0.076336  0.628205\n",
      "   threshold       fpr       tpr\n",
      "0      0.432  0.076336  0.628205\n",
      "   threshold       fpr       tpr\n",
      "0      0.433  0.076336  0.628205\n",
      "   threshold       fpr       tpr\n",
      "0      0.434  0.076336  0.628205\n",
      "   threshold       fpr       tpr\n",
      "0      0.435  0.076336  0.628205\n",
      "   threshold       fpr       tpr\n",
      "0      0.436  0.076336  0.628205\n",
      "   threshold       fpr       tpr\n",
      "0      0.437  0.076336  0.628205\n",
      "   threshold       fpr       tpr\n",
      "0      0.438  0.076336  0.628205\n",
      "   threshold       fpr       tpr\n",
      "0      0.439  0.076336  0.628205\n",
      "   threshold       fpr       tpr\n",
      "0       0.44  0.076336  0.628205\n",
      "   threshold       fpr       tpr\n",
      "0      0.441  0.076336  0.628205\n",
      "   threshold       fpr       tpr\n",
      "0      0.442  0.076336  0.628205\n",
      "   threshold       fpr       tpr\n",
      "0      0.443  0.076336  0.628205\n",
      "   threshold       fpr       tpr\n",
      "0      0.444  0.076336  0.628205\n",
      "   threshold       fpr       tpr\n",
      "0      0.445  0.076336  0.628205\n",
      "   threshold       fpr       tpr\n",
      "0      0.446  0.076336  0.628205\n",
      "   threshold       fpr       tpr\n",
      "0      0.447  0.076336  0.628205\n",
      "   threshold       fpr       tpr\n",
      "0      0.448  0.076336  0.628205\n",
      "   threshold       fpr       tpr\n",
      "0      0.449  0.076336  0.628205\n",
      "   threshold       fpr       tpr\n",
      "0       0.45  0.076336  0.628205\n",
      "   threshold       fpr       tpr\n",
      "0      0.451  0.076336  0.628205\n",
      "   threshold       fpr       tpr\n",
      "0      0.452  0.076336  0.628205\n",
      "   threshold       fpr       tpr\n",
      "0      0.453  0.076336  0.628205\n",
      "   threshold       fpr       tpr\n",
      "0      0.454  0.076336  0.628205\n",
      "   threshold       fpr       tpr\n",
      "0      0.455  0.076336  0.628205\n",
      "   threshold       fpr       tpr\n",
      "0      0.456  0.076336  0.628205\n",
      "   threshold       fpr       tpr\n",
      "0      0.457  0.076336  0.628205\n",
      "   threshold       fpr       tpr\n",
      "0      0.458  0.076336  0.628205\n",
      "   threshold       fpr       tpr\n",
      "0      0.459  0.076336  0.628205\n",
      "   threshold       fpr       tpr\n",
      "0       0.46  0.076336  0.628205\n",
      "   threshold       fpr       tpr\n",
      "0      0.461  0.076336  0.628205\n",
      "   threshold       fpr       tpr\n",
      "0      0.462  0.076336  0.628205\n",
      "   threshold       fpr       tpr\n",
      "0      0.463  0.076336  0.628205\n",
      "   threshold       fpr       tpr\n",
      "0      0.464  0.076336  0.628205\n",
      "   threshold       fpr       tpr\n",
      "0      0.465  0.076336  0.628205\n",
      "   threshold       fpr       tpr\n",
      "0      0.466  0.076336  0.628205\n",
      "   threshold       fpr       tpr\n",
      "0      0.467  0.076336  0.628205\n",
      "   threshold       fpr       tpr\n",
      "0      0.468  0.076336  0.628205\n",
      "   threshold       fpr       tpr\n",
      "0      0.469  0.076336  0.628205\n",
      "   threshold       fpr       tpr\n",
      "0       0.47  0.076336  0.628205\n",
      "   threshold       fpr       tpr\n",
      "0      0.471  0.076336  0.615385\n",
      "   threshold       fpr       tpr\n",
      "0      0.472  0.076336  0.615385\n",
      "   threshold       fpr       tpr\n",
      "0      0.473  0.076336  0.615385\n",
      "   threshold       fpr       tpr\n",
      "0      0.474  0.076336  0.615385\n",
      "   threshold       fpr       tpr\n",
      "0      0.475  0.076336  0.615385\n",
      "   threshold       fpr       tpr\n",
      "0      0.476  0.076336  0.615385\n",
      "   threshold       fpr       tpr\n",
      "0      0.477  0.076336  0.615385\n",
      "   threshold       fpr       tpr\n",
      "0      0.478  0.076336  0.615385\n",
      "   threshold       fpr       tpr\n",
      "0      0.479  0.076336  0.615385\n",
      "   threshold       fpr       tpr\n",
      "0       0.48  0.068702  0.615385\n",
      "   threshold       fpr       tpr\n",
      "0      0.481  0.068702  0.615385\n",
      "   threshold       fpr       tpr\n",
      "0      0.482  0.068702  0.615385\n",
      "   threshold       fpr       tpr\n",
      "0      0.483  0.068702  0.615385\n",
      "   threshold       fpr       tpr\n",
      "0      0.484  0.068702  0.615385\n",
      "   threshold       fpr       tpr\n",
      "0      0.485  0.068702  0.615385\n",
      "   threshold       fpr       tpr\n",
      "0      0.486  0.068702  0.615385\n",
      "   threshold       fpr       tpr\n",
      "0      0.487  0.068702  0.615385\n",
      "   threshold       fpr       tpr\n",
      "0      0.488  0.068702  0.615385\n",
      "   threshold       fpr       tpr\n",
      "0      0.489  0.068702  0.615385\n",
      "   threshold       fpr       tpr\n",
      "0       0.49  0.068702  0.615385\n",
      "   threshold       fpr       tpr\n",
      "0      0.491  0.068702  0.615385\n",
      "   threshold       fpr       tpr\n",
      "0      0.492  0.068702  0.602564\n",
      "   threshold       fpr       tpr\n",
      "0      0.493  0.068702  0.602564\n",
      "   threshold       fpr       tpr\n",
      "0      0.494  0.068702  0.602564\n",
      "   threshold       fpr       tpr\n",
      "0      0.495  0.068702  0.602564\n",
      "   threshold       fpr       tpr\n",
      "0      0.496  0.068702  0.602564\n",
      "   threshold       fpr       tpr\n",
      "0      0.497  0.068702  0.602564\n",
      "   threshold       fpr       tpr\n",
      "0      0.498  0.068702  0.602564\n",
      "   threshold       fpr       tpr\n",
      "0      0.499  0.068702  0.602564\n",
      "   threshold       fpr       tpr\n",
      "0        0.5  0.068702  0.602564\n",
      "   threshold       fpr       tpr\n",
      "0      0.501  0.068702  0.602564\n",
      "   threshold       fpr       tpr\n",
      "0      0.502  0.068702  0.602564\n",
      "   threshold       fpr       tpr\n",
      "0      0.503  0.068702  0.602564\n",
      "   threshold       fpr       tpr\n",
      "0      0.504  0.068702  0.602564\n",
      "   threshold       fpr       tpr\n",
      "0      0.505  0.068702  0.602564\n",
      "   threshold       fpr       tpr\n",
      "0      0.506  0.068702  0.602564\n",
      "   threshold       fpr       tpr\n",
      "0      0.507  0.068702  0.602564\n",
      "   threshold       fpr       tpr\n",
      "0      0.508  0.068702  0.602564\n",
      "   threshold       fpr       tpr\n",
      "0      0.509  0.068702  0.602564\n",
      "   threshold       fpr       tpr\n",
      "0       0.51  0.068702  0.602564\n",
      "   threshold       fpr       tpr\n",
      "0      0.511  0.068702  0.602564\n",
      "   threshold       fpr       tpr\n",
      "0      0.512  0.068702  0.602564\n",
      "   threshold       fpr       tpr\n",
      "0      0.513  0.068702  0.602564\n",
      "   threshold       fpr       tpr\n",
      "0      0.514  0.068702  0.602564\n",
      "   threshold       fpr       tpr\n",
      "0      0.515  0.068702  0.602564\n",
      "   threshold       fpr       tpr\n",
      "0      0.516  0.068702  0.602564\n",
      "   threshold       fpr       tpr\n",
      "0      0.517  0.068702  0.602564\n",
      "   threshold       fpr       tpr\n",
      "0      0.518  0.068702  0.602564\n",
      "   threshold       fpr       tpr\n",
      "0      0.519  0.068702  0.589744\n",
      "   threshold       fpr       tpr\n",
      "0       0.52  0.068702  0.589744\n",
      "   threshold       fpr       tpr\n",
      "0      0.521  0.068702  0.589744\n",
      "   threshold       fpr       tpr\n",
      "0      0.522  0.068702  0.589744\n",
      "   threshold       fpr       tpr\n",
      "0      0.523  0.068702  0.589744\n",
      "   threshold       fpr       tpr\n",
      "0      0.524  0.068702  0.589744\n",
      "   threshold       fpr       tpr\n",
      "0      0.525  0.068702  0.589744\n",
      "   threshold       fpr       tpr\n",
      "0      0.526  0.068702  0.589744\n",
      "   threshold       fpr       tpr\n"
     ]
    },
    {
     "name": "stdout",
     "output_type": "stream",
     "text": [
      "0      0.527  0.068702  0.576923\n",
      "   threshold       fpr       tpr\n",
      "0      0.528  0.068702  0.564103\n",
      "   threshold       fpr       tpr\n",
      "0      0.529  0.068702  0.564103\n",
      "   threshold       fpr       tpr\n",
      "0       0.53  0.068702  0.564103\n",
      "   threshold       fpr       tpr\n",
      "0      0.531  0.068702  0.564103\n",
      "   threshold       fpr       tpr\n",
      "0      0.532  0.068702  0.564103\n",
      "   threshold       fpr       tpr\n",
      "0      0.533  0.068702  0.564103\n",
      "   threshold       fpr       tpr\n",
      "0      0.534  0.068702  0.564103\n",
      "   threshold       fpr       tpr\n",
      "0      0.535  0.068702  0.564103\n",
      "   threshold       fpr       tpr\n",
      "0      0.536  0.068702  0.564103\n",
      "   threshold       fpr       tpr\n",
      "0      0.537  0.068702  0.564103\n",
      "   threshold       fpr       tpr\n",
      "0      0.538  0.068702  0.564103\n",
      "   threshold       fpr       tpr\n",
      "0      0.539  0.068702  0.564103\n",
      "   threshold       fpr       tpr\n",
      "0       0.54  0.068702  0.564103\n",
      "   threshold       fpr       tpr\n",
      "0      0.541  0.068702  0.564103\n",
      "   threshold       fpr       tpr\n",
      "0      0.542  0.068702  0.564103\n",
      "   threshold       fpr       tpr\n",
      "0      0.543  0.068702  0.564103\n",
      "   threshold       fpr       tpr\n",
      "0      0.544  0.068702  0.564103\n",
      "   threshold       fpr       tpr\n",
      "0      0.545  0.068702  0.564103\n",
      "   threshold       fpr       tpr\n",
      "0      0.546  0.068702  0.564103\n",
      "   threshold       fpr       tpr\n",
      "0      0.547  0.068702  0.564103\n",
      "   threshold       fpr       tpr\n",
      "0      0.548  0.068702  0.564103\n",
      "   threshold       fpr       tpr\n",
      "0      0.549  0.068702  0.564103\n",
      "   threshold       fpr       tpr\n",
      "0       0.55  0.068702  0.564103\n",
      "   threshold       fpr       tpr\n",
      "0      0.551  0.068702  0.564103\n",
      "   threshold       fpr       tpr\n",
      "0      0.552  0.068702  0.564103\n",
      "   threshold       fpr       tpr\n",
      "0      0.553  0.068702  0.564103\n",
      "   threshold       fpr       tpr\n",
      "0      0.554  0.068702  0.564103\n",
      "   threshold       fpr       tpr\n",
      "0      0.555  0.068702  0.564103\n",
      "   threshold       fpr       tpr\n",
      "0      0.556  0.068702  0.564103\n",
      "   threshold       fpr       tpr\n",
      "0      0.557  0.068702  0.564103\n",
      "   threshold       fpr       tpr\n",
      "0      0.558  0.068702  0.564103\n",
      "   threshold       fpr       tpr\n",
      "0      0.559  0.068702  0.551282\n",
      "   threshold       fpr       tpr\n",
      "0       0.56  0.068702  0.538462\n",
      "   threshold       fpr       tpr\n",
      "0      0.561  0.068702  0.538462\n",
      "   threshold       fpr       tpr\n",
      "0      0.562  0.068702  0.512821\n",
      "   threshold       fpr       tpr\n",
      "0      0.563  0.068702  0.512821\n",
      "   threshold       fpr       tpr\n",
      "0      0.564  0.068702  0.512821\n",
      "   threshold       fpr       tpr\n",
      "0      0.565  0.068702  0.512821\n",
      "   threshold       fpr       tpr\n",
      "0      0.566  0.068702  0.512821\n",
      "   threshold       fpr       tpr\n",
      "0      0.567  0.068702  0.512821\n",
      "   threshold       fpr  tpr\n",
      "0      0.568  0.068702  0.5\n",
      "   threshold       fpr  tpr\n",
      "0      0.569  0.068702  0.5\n",
      "   threshold       fpr  tpr\n",
      "0       0.57  0.068702  0.5\n",
      "   threshold       fpr  tpr\n",
      "0      0.571  0.068702  0.5\n",
      "   threshold       fpr  tpr\n",
      "0      0.572  0.068702  0.5\n",
      "   threshold       fpr  tpr\n",
      "0      0.573  0.068702  0.5\n",
      "   threshold       fpr  tpr\n",
      "0      0.574  0.068702  0.5\n",
      "   threshold       fpr  tpr\n",
      "0      0.575  0.068702  0.5\n",
      "   threshold       fpr  tpr\n",
      "0      0.576  0.068702  0.5\n",
      "   threshold       fpr  tpr\n",
      "0      0.577  0.068702  0.5\n",
      "   threshold       fpr  tpr\n",
      "0      0.578  0.068702  0.5\n",
      "   threshold       fpr  tpr\n",
      "0      0.579  0.068702  0.5\n",
      "   threshold       fpr  tpr\n",
      "0       0.58  0.068702  0.5\n",
      "   threshold       fpr  tpr\n",
      "0      0.581  0.068702  0.5\n",
      "   threshold       fpr  tpr\n",
      "0      0.582  0.068702  0.5\n",
      "   threshold       fpr  tpr\n",
      "0      0.583  0.068702  0.5\n",
      "   threshold       fpr  tpr\n",
      "0      0.584  0.068702  0.5\n",
      "   threshold       fpr  tpr\n",
      "0      0.585  0.068702  0.5\n",
      "   threshold       fpr  tpr\n",
      "0      0.586  0.068702  0.5\n",
      "   threshold       fpr  tpr\n",
      "0      0.587  0.068702  0.5\n",
      "   threshold       fpr  tpr\n",
      "0      0.588  0.068702  0.5\n",
      "   threshold       fpr  tpr\n",
      "0      0.589  0.068702  0.5\n",
      "   threshold       fpr  tpr\n",
      "0       0.59  0.068702  0.5\n",
      "   threshold       fpr  tpr\n",
      "0      0.591  0.068702  0.5\n",
      "   threshold       fpr  tpr\n",
      "0      0.592  0.068702  0.5\n",
      "   threshold       fpr  tpr\n",
      "0      0.593  0.068702  0.5\n",
      "   threshold       fpr  tpr\n",
      "0      0.594  0.068702  0.5\n",
      "   threshold       fpr  tpr\n",
      "0      0.595  0.068702  0.5\n",
      "   threshold       fpr  tpr\n",
      "0      0.596  0.068702  0.5\n",
      "   threshold       fpr  tpr\n",
      "0      0.597  0.068702  0.5\n",
      "   threshold       fpr  tpr\n",
      "0      0.598  0.068702  0.5\n",
      "   threshold       fpr  tpr\n",
      "0      0.599  0.068702  0.5\n",
      "   threshold       fpr  tpr\n",
      "0        0.6  0.068702  0.5\n",
      "   threshold       fpr  tpr\n",
      "0      0.601  0.068702  0.5\n",
      "   threshold       fpr  tpr\n",
      "0      0.602  0.068702  0.5\n",
      "   threshold       fpr  tpr\n",
      "0      0.603  0.068702  0.5\n",
      "   threshold       fpr  tpr\n",
      "0      0.604  0.068702  0.5\n",
      "   threshold       fpr  tpr\n",
      "0      0.605  0.068702  0.5\n",
      "   threshold       fpr  tpr\n",
      "0      0.606  0.068702  0.5\n",
      "   threshold       fpr  tpr\n",
      "0      0.607  0.068702  0.5\n",
      "   threshold       fpr  tpr\n",
      "0      0.608  0.068702  0.5\n",
      "   threshold       fpr  tpr\n",
      "0      0.609  0.068702  0.5\n",
      "   threshold       fpr  tpr\n",
      "0       0.61  0.068702  0.5\n",
      "   threshold       fpr  tpr\n",
      "0      0.611  0.068702  0.5\n",
      "   threshold       fpr  tpr\n",
      "0      0.612  0.068702  0.5\n",
      "   threshold       fpr  tpr\n",
      "0      0.613  0.068702  0.5\n",
      "   threshold       fpr  tpr\n",
      "0      0.614  0.068702  0.5\n",
      "   threshold       fpr  tpr\n",
      "0      0.615  0.068702  0.5\n",
      "   threshold       fpr  tpr\n",
      "0      0.616  0.061069  0.5\n",
      "   threshold       fpr  tpr\n",
      "0      0.617  0.061069  0.5\n",
      "   threshold       fpr  tpr\n",
      "0      0.618  0.061069  0.5\n",
      "   threshold       fpr  tpr\n",
      "0      0.619  0.061069  0.5\n",
      "   threshold       fpr  tpr\n",
      "0       0.62  0.061069  0.5\n",
      "   threshold       fpr  tpr\n",
      "0      0.621  0.061069  0.5\n",
      "   threshold       fpr  tpr\n",
      "0      0.622  0.061069  0.5\n",
      "   threshold       fpr  tpr\n",
      "0      0.623  0.061069  0.5\n",
      "   threshold       fpr  tpr\n",
      "0      0.624  0.061069  0.5\n",
      "   threshold       fpr  tpr\n",
      "0      0.625  0.061069  0.5\n",
      "   threshold       fpr  tpr\n",
      "0      0.626  0.061069  0.5\n",
      "   threshold       fpr  tpr\n",
      "0      0.627  0.053435  0.5\n",
      "   threshold       fpr  tpr\n",
      "0      0.628  0.053435  0.5\n",
      "   threshold       fpr  tpr\n",
      "0      0.629  0.053435  0.5\n",
      "   threshold       fpr  tpr\n",
      "0       0.63  0.053435  0.5\n",
      "   threshold       fpr       tpr\n",
      "0      0.631  0.053435  0.487179\n",
      "   threshold       fpr       tpr\n",
      "0      0.632  0.053435  0.487179\n",
      "   threshold       fpr       tpr\n",
      "0      0.633  0.053435  0.487179\n",
      "   threshold       fpr       tpr\n",
      "0      0.634  0.053435  0.487179\n",
      "   threshold       fpr       tpr\n",
      "0      0.635  0.053435  0.487179\n",
      "   threshold       fpr       tpr\n",
      "0      0.636  0.053435  0.487179\n",
      "   threshold       fpr       tpr\n",
      "0      0.637  0.053435  0.487179\n",
      "   threshold       fpr       tpr\n",
      "0      0.638  0.053435  0.487179\n",
      "   threshold       fpr       tpr\n",
      "0      0.639  0.053435  0.487179\n",
      "   threshold       fpr       tpr\n",
      "0       0.64  0.053435  0.487179\n",
      "   threshold       fpr       tpr\n",
      "0      0.641  0.053435  0.487179\n",
      "   threshold       fpr       tpr\n",
      "0      0.642  0.053435  0.487179\n",
      "   threshold       fpr       tpr\n",
      "0      0.643  0.053435  0.487179\n",
      "   threshold       fpr       tpr\n",
      "0      0.644  0.053435  0.487179\n",
      "   threshold       fpr       tpr\n",
      "0      0.645  0.053435  0.487179\n",
      "   threshold       fpr       tpr\n",
      "0      0.646  0.053435  0.487179\n",
      "   threshold       fpr       tpr\n",
      "0      0.647  0.053435  0.487179\n",
      "   threshold       fpr       tpr\n",
      "0      0.648  0.053435  0.487179\n",
      "   threshold       fpr       tpr\n",
      "0      0.649  0.053435  0.487179\n",
      "   threshold       fpr       tpr\n",
      "0       0.65  0.053435  0.487179\n",
      "   threshold       fpr       tpr\n",
      "0      0.651  0.053435  0.487179\n",
      "   threshold       fpr       tpr\n",
      "0      0.652  0.053435  0.487179\n",
      "   threshold       fpr       tpr\n",
      "0      0.653  0.053435  0.487179\n",
      "   threshold       fpr       tpr\n",
      "0      0.654  0.053435  0.487179\n",
      "   threshold       fpr       tpr\n",
      "0      0.655  0.053435  0.487179\n",
      "   threshold       fpr       tpr\n",
      "0      0.656  0.053435  0.487179\n",
      "   threshold       fpr       tpr\n",
      "0      0.657  0.053435  0.487179\n",
      "   threshold       fpr       tpr\n",
      "0      0.658  0.053435  0.487179\n",
      "   threshold       fpr       tpr\n",
      "0      0.659  0.053435  0.487179\n",
      "   threshold       fpr       tpr\n",
      "0       0.66  0.053435  0.487179\n",
      "   threshold       fpr       tpr\n",
      "0      0.661  0.053435  0.461538\n",
      "   threshold       fpr       tpr\n",
      "0      0.662  0.053435  0.461538\n",
      "   threshold       fpr       tpr\n",
      "0      0.663  0.053435  0.461538\n",
      "   threshold       fpr       tpr\n",
      "0      0.664  0.053435  0.461538\n",
      "   threshold       fpr       tpr\n",
      "0      0.665  0.053435  0.461538\n",
      "   threshold       fpr       tpr\n",
      "0      0.666  0.053435  0.461538\n",
      "   threshold       fpr       tpr\n",
      "0      0.667  0.053435  0.461538\n",
      "   threshold       fpr       tpr\n",
      "0      0.668  0.053435  0.461538\n",
      "   threshold       fpr       tpr\n",
      "0      0.669  0.053435  0.448718\n",
      "   threshold       fpr       tpr\n",
      "0       0.67  0.053435  0.448718\n",
      "   threshold       fpr       tpr\n",
      "0      0.671  0.053435  0.448718\n",
      "   threshold       fpr       tpr\n",
      "0      0.672  0.053435  0.448718\n",
      "   threshold       fpr       tpr\n",
      "0      0.673  0.053435  0.448718\n",
      "   threshold       fpr       tpr\n",
      "0      0.674  0.053435  0.448718\n",
      "   threshold       fpr       tpr\n",
      "0      0.675  0.053435  0.448718\n",
      "   threshold       fpr       tpr\n",
      "0      0.676  0.053435  0.448718\n",
      "   threshold       fpr       tpr\n",
      "0      0.677  0.053435  0.448718\n",
      "   threshold       fpr       tpr\n",
      "0      0.678  0.053435  0.448718\n",
      "   threshold       fpr       tpr\n",
      "0      0.679  0.053435  0.448718\n",
      "   threshold       fpr       tpr\n",
      "0       0.68  0.053435  0.448718\n",
      "   threshold       fpr       tpr\n",
      "0      0.681  0.053435  0.448718\n",
      "   threshold       fpr       tpr\n",
      "0      0.682  0.053435  0.448718\n",
      "   threshold       fpr       tpr\n",
      "0      0.683  0.053435  0.448718\n",
      "   threshold       fpr       tpr\n",
      "0      0.684  0.053435  0.448718\n",
      "   threshold       fpr       tpr\n",
      "0      0.685  0.053435  0.448718\n",
      "   threshold       fpr       tpr\n",
      "0      0.686  0.053435  0.448718\n",
      "   threshold       fpr       tpr\n",
      "0      0.687  0.053435  0.448718\n",
      "   threshold       fpr       tpr\n",
      "0      0.688  0.053435  0.448718\n"
     ]
    },
    {
     "name": "stdout",
     "output_type": "stream",
     "text": [
      "   threshold       fpr       tpr\n",
      "0      0.689  0.053435  0.448718\n",
      "   threshold       fpr       tpr\n",
      "0       0.69  0.053435  0.448718\n",
      "   threshold       fpr       tpr\n",
      "0      0.691  0.053435  0.448718\n",
      "   threshold       fpr       tpr\n",
      "0      0.692  0.053435  0.448718\n",
      "   threshold       fpr       tpr\n",
      "0      0.693  0.053435  0.448718\n",
      "   threshold       fpr       tpr\n",
      "0      0.694  0.053435  0.435897\n",
      "   threshold       fpr       tpr\n",
      "0      0.695  0.053435  0.435897\n",
      "   threshold       fpr       tpr\n",
      "0      0.696  0.053435  0.423077\n",
      "   threshold       fpr       tpr\n",
      "0      0.697  0.053435  0.410256\n",
      "   threshold       fpr       tpr\n",
      "0      0.698  0.053435  0.410256\n",
      "   threshold       fpr       tpr\n",
      "0      0.699  0.045802  0.410256\n",
      "   threshold       fpr       tpr\n",
      "0        0.7  0.045802  0.410256\n",
      "   threshold       fpr       tpr\n",
      "0      0.701  0.038168  0.410256\n",
      "   threshold       fpr       tpr\n",
      "0      0.702  0.030534  0.397436\n",
      "   threshold       fpr       tpr\n",
      "0      0.703  0.030534  0.397436\n",
      "   threshold       fpr       tpr\n",
      "0      0.704  0.030534  0.397436\n",
      "   threshold       fpr       tpr\n",
      "0      0.705  0.030534  0.397436\n",
      "   threshold       fpr       tpr\n",
      "0      0.706  0.030534  0.397436\n",
      "   threshold       fpr       tpr\n",
      "0      0.707  0.030534  0.384615\n",
      "   threshold       fpr       tpr\n",
      "0      0.708  0.022901  0.384615\n",
      "   threshold       fpr       tpr\n",
      "0      0.709  0.022901  0.384615\n",
      "   threshold       fpr       tpr\n",
      "0       0.71  0.022901  0.371795\n",
      "   threshold       fpr       tpr\n",
      "0      0.711  0.022901  0.371795\n",
      "   threshold       fpr       tpr\n",
      "0      0.712  0.022901  0.371795\n",
      "   threshold       fpr       tpr\n",
      "0      0.713  0.022901  0.371795\n",
      "   threshold       fpr       tpr\n",
      "0      0.714  0.015267  0.358974\n",
      "   threshold       fpr       tpr\n",
      "0      0.715  0.015267  0.358974\n",
      "   threshold       fpr       tpr\n",
      "0      0.716  0.015267  0.358974\n",
      "   threshold       fpr       tpr\n",
      "0      0.717  0.015267  0.358974\n",
      "   threshold       fpr       tpr\n",
      "0      0.718  0.015267  0.358974\n",
      "   threshold       fpr       tpr\n",
      "0      0.719  0.015267  0.358974\n",
      "   threshold       fpr       tpr\n",
      "0       0.72  0.015267  0.358974\n",
      "   threshold       fpr       tpr\n",
      "0      0.721  0.015267  0.358974\n",
      "   threshold       fpr       tpr\n",
      "0      0.722  0.015267  0.358974\n",
      "   threshold       fpr       tpr\n",
      "0      0.723  0.015267  0.358974\n",
      "   threshold       fpr       tpr\n",
      "0      0.724  0.015267  0.358974\n",
      "   threshold       fpr       tpr\n",
      "0      0.725  0.015267  0.358974\n",
      "   threshold       fpr       tpr\n",
      "0      0.726  0.015267  0.358974\n",
      "   threshold       fpr       tpr\n",
      "0      0.727  0.015267  0.358974\n",
      "   threshold       fpr       tpr\n",
      "0      0.728  0.015267  0.358974\n",
      "   threshold       fpr       tpr\n",
      "0      0.729  0.015267  0.358974\n",
      "   threshold       fpr       tpr\n",
      "0       0.73  0.015267  0.358974\n",
      "   threshold       fpr       tpr\n",
      "0      0.731  0.015267  0.358974\n",
      "   threshold       fpr       tpr\n",
      "0      0.732  0.015267  0.358974\n",
      "   threshold       fpr       tpr\n",
      "0      0.733  0.015267  0.358974\n",
      "   threshold       fpr       tpr\n",
      "0      0.734  0.015267  0.358974\n",
      "   threshold       fpr       tpr\n",
      "0      0.735  0.015267  0.358974\n",
      "   threshold       fpr       tpr\n",
      "0      0.736  0.015267  0.358974\n",
      "   threshold       fpr       tpr\n",
      "0      0.737  0.015267  0.358974\n",
      "   threshold       fpr       tpr\n",
      "0      0.738  0.015267  0.358974\n",
      "   threshold       fpr       tpr\n",
      "0      0.739  0.015267  0.358974\n",
      "   threshold       fpr       tpr\n",
      "0       0.74  0.015267  0.358974\n",
      "   threshold       fpr       tpr\n",
      "0      0.741  0.015267  0.358974\n",
      "   threshold       fpr       tpr\n",
      "0      0.742  0.015267  0.358974\n",
      "   threshold       fpr       tpr\n",
      "0      0.743  0.015267  0.358974\n",
      "   threshold       fpr       tpr\n",
      "0      0.744  0.015267  0.358974\n",
      "   threshold       fpr       tpr\n",
      "0      0.745  0.015267  0.358974\n",
      "   threshold       fpr       tpr\n",
      "0      0.746  0.015267  0.358974\n",
      "   threshold       fpr       tpr\n",
      "0      0.747  0.015267  0.358974\n",
      "   threshold       fpr       tpr\n",
      "0      0.748  0.015267  0.358974\n",
      "   threshold       fpr       tpr\n",
      "0      0.749  0.015267  0.358974\n",
      "   threshold       fpr       tpr\n",
      "0       0.75  0.015267  0.358974\n",
      "   threshold       fpr       tpr\n",
      "0      0.751  0.015267  0.358974\n",
      "   threshold       fpr       tpr\n",
      "0      0.752  0.015267  0.358974\n",
      "   threshold       fpr       tpr\n",
      "0      0.753  0.015267  0.358974\n",
      "   threshold       fpr       tpr\n",
      "0      0.754  0.015267  0.358974\n",
      "   threshold       fpr       tpr\n",
      "0      0.755  0.015267  0.358974\n",
      "   threshold       fpr       tpr\n",
      "0      0.756  0.015267  0.358974\n",
      "   threshold       fpr       tpr\n",
      "0      0.757  0.015267  0.358974\n",
      "   threshold       fpr       tpr\n",
      "0      0.758  0.015267  0.346154\n",
      "   threshold       fpr       tpr\n",
      "0      0.759  0.015267  0.346154\n",
      "   threshold       fpr       tpr\n",
      "0       0.76  0.015267  0.346154\n",
      "   threshold       fpr       tpr\n",
      "0      0.761  0.015267  0.346154\n",
      "   threshold       fpr       tpr\n",
      "0      0.762  0.015267  0.346154\n",
      "   threshold       fpr       tpr\n",
      "0      0.763  0.015267  0.346154\n",
      "   threshold       fpr       tpr\n",
      "0      0.764  0.015267  0.346154\n",
      "   threshold       fpr       tpr\n",
      "0      0.765  0.015267  0.320513\n",
      "   threshold       fpr       tpr\n",
      "0      0.766  0.015267  0.320513\n",
      "   threshold       fpr       tpr\n",
      "0      0.767  0.015267  0.320513\n",
      "   threshold       fpr       tpr\n",
      "0      0.768  0.015267  0.320513\n",
      "   threshold       fpr       tpr\n",
      "0      0.769  0.015267  0.320513\n",
      "   threshold       fpr       tpr\n",
      "0       0.77  0.015267  0.307692\n",
      "   threshold       fpr       tpr\n",
      "0      0.771  0.015267  0.307692\n",
      "   threshold       fpr       tpr\n",
      "0      0.772  0.015267  0.307692\n",
      "   threshold       fpr       tpr\n",
      "0      0.773  0.015267  0.307692\n",
      "   threshold       fpr       tpr\n",
      "0      0.774  0.015267  0.307692\n",
      "   threshold       fpr       tpr\n",
      "0      0.775  0.015267  0.307692\n",
      "   threshold       fpr       tpr\n",
      "0      0.776  0.015267  0.307692\n",
      "   threshold       fpr       tpr\n",
      "0      0.777  0.015267  0.307692\n",
      "   threshold       fpr       tpr\n",
      "0      0.778  0.015267  0.307692\n",
      "   threshold       fpr       tpr\n",
      "0      0.779  0.015267  0.307692\n",
      "   threshold       fpr       tpr\n",
      "0       0.78  0.015267  0.307692\n",
      "   threshold       fpr       tpr\n",
      "0      0.781  0.015267  0.307692\n",
      "   threshold       fpr       tpr\n",
      "0      0.782  0.015267  0.307692\n",
      "   threshold       fpr       tpr\n",
      "0      0.783  0.015267  0.307692\n",
      "   threshold       fpr       tpr\n",
      "0      0.784  0.015267  0.307692\n",
      "   threshold       fpr       tpr\n",
      "0      0.785  0.015267  0.307692\n",
      "   threshold       fpr       tpr\n",
      "0      0.786  0.015267  0.307692\n",
      "   threshold       fpr       tpr\n",
      "0      0.787  0.015267  0.307692\n",
      "   threshold       fpr       tpr\n",
      "0      0.788  0.015267  0.307692\n",
      "   threshold       fpr       tpr\n",
      "0      0.789  0.015267  0.307692\n",
      "   threshold       fpr       tpr\n",
      "0       0.79  0.015267  0.307692\n",
      "   threshold       fpr       tpr\n",
      "0      0.791  0.015267  0.307692\n",
      "   threshold       fpr       tpr\n",
      "0      0.792  0.015267  0.307692\n",
      "   threshold       fpr       tpr\n",
      "0      0.793  0.015267  0.307692\n",
      "   threshold       fpr       tpr\n",
      "0      0.794  0.015267  0.307692\n",
      "   threshold       fpr       tpr\n",
      "0      0.795  0.015267  0.294872\n",
      "   threshold       fpr       tpr\n",
      "0      0.796  0.015267  0.294872\n",
      "   threshold       fpr       tpr\n",
      "0      0.797  0.015267  0.294872\n",
      "   threshold       fpr       tpr\n",
      "0      0.798  0.015267  0.294872\n",
      "   threshold       fpr       tpr\n",
      "0      0.799  0.015267  0.294872\n",
      "   threshold       fpr       tpr\n",
      "0        0.8  0.015267  0.294872\n",
      "   threshold       fpr       tpr\n",
      "0      0.801  0.015267  0.294872\n",
      "   threshold       fpr       tpr\n",
      "0      0.802  0.015267  0.294872\n",
      "   threshold       fpr       tpr\n",
      "0      0.803  0.015267  0.294872\n",
      "   threshold       fpr       tpr\n",
      "0      0.804  0.015267  0.294872\n",
      "   threshold       fpr       tpr\n",
      "0      0.805  0.015267  0.294872\n",
      "   threshold       fpr       tpr\n",
      "0      0.806  0.015267  0.294872\n",
      "   threshold       fpr       tpr\n",
      "0      0.807  0.015267  0.294872\n",
      "   threshold       fpr       tpr\n",
      "0      0.808  0.015267  0.294872\n",
      "   threshold       fpr       tpr\n",
      "0      0.809  0.015267  0.294872\n",
      "   threshold       fpr       tpr\n",
      "0       0.81  0.015267  0.294872\n",
      "   threshold       fpr       tpr\n",
      "0      0.811  0.015267  0.294872\n",
      "   threshold       fpr       tpr\n",
      "0      0.812  0.015267  0.294872\n",
      "   threshold       fpr       tpr\n",
      "0      0.813  0.015267  0.294872\n",
      "   threshold       fpr       tpr\n",
      "0      0.814  0.015267  0.294872\n",
      "   threshold       fpr       tpr\n",
      "0      0.815  0.015267  0.294872\n",
      "   threshold       fpr       tpr\n",
      "0      0.816  0.015267  0.294872\n",
      "   threshold       fpr       tpr\n",
      "0      0.817  0.015267  0.294872\n",
      "   threshold       fpr       tpr\n",
      "0      0.818  0.015267  0.294872\n",
      "   threshold       fpr       tpr\n",
      "0      0.819  0.015267  0.294872\n",
      "   threshold       fpr       tpr\n",
      "0       0.82  0.015267  0.294872\n",
      "   threshold       fpr       tpr\n",
      "0      0.821  0.015267  0.294872\n",
      "   threshold       fpr       tpr\n",
      "0      0.822  0.015267  0.294872\n",
      "   threshold       fpr       tpr\n",
      "0      0.823  0.015267  0.294872\n",
      "   threshold       fpr       tpr\n",
      "0      0.824  0.015267  0.294872\n",
      "   threshold       fpr       tpr\n",
      "0      0.825  0.015267  0.294872\n",
      "   threshold       fpr       tpr\n",
      "0      0.826  0.015267  0.294872\n",
      "   threshold       fpr       tpr\n",
      "0      0.827  0.015267  0.294872\n",
      "   threshold       fpr       tpr\n",
      "0      0.828  0.015267  0.294872\n",
      "   threshold       fpr       tpr\n",
      "0      0.829  0.015267  0.294872\n",
      "   threshold       fpr       tpr\n",
      "0       0.83  0.015267  0.294872\n",
      "   threshold       fpr       tpr\n",
      "0      0.831  0.015267  0.294872\n",
      "   threshold       fpr       tpr\n",
      "0      0.832  0.015267  0.294872\n",
      "   threshold       fpr       tpr\n",
      "0      0.833  0.015267  0.294872\n",
      "   threshold       fpr       tpr\n",
      "0      0.834  0.015267  0.294872\n",
      "   threshold       fpr       tpr\n",
      "0      0.835  0.015267  0.294872\n",
      "   threshold       fpr       tpr\n",
      "0      0.836  0.015267  0.294872\n",
      "   threshold       fpr       tpr\n",
      "0      0.837  0.015267  0.294872\n",
      "   threshold       fpr       tpr\n",
      "0      0.838  0.015267  0.294872\n",
      "   threshold       fpr       tpr\n",
      "0      0.839  0.015267  0.294872\n",
      "   threshold       fpr       tpr\n",
      "0       0.84  0.015267  0.294872\n",
      "   threshold       fpr       tpr\n",
      "0      0.841  0.015267  0.294872\n",
      "   threshold       fpr       tpr\n",
      "0      0.842  0.015267  0.294872\n",
      "   threshold       fpr       tpr\n",
      "0      0.843  0.015267  0.294872\n",
      "   threshold       fpr       tpr\n",
      "0      0.844  0.015267  0.294872\n",
      "   threshold       fpr       tpr\n",
      "0      0.845  0.015267  0.294872\n",
      "   threshold       fpr       tpr\n",
      "0      0.846  0.015267  0.294872\n",
      "   threshold       fpr       tpr\n",
      "0      0.847  0.015267  0.294872\n",
      "   threshold       fpr       tpr\n",
      "0      0.848  0.015267  0.294872\n",
      "   threshold       fpr       tpr\n",
      "0      0.849  0.015267  0.294872\n",
      "   threshold       fpr       tpr\n",
      "0       0.85  0.015267  0.294872\n",
      "   threshold       fpr       tpr\n",
      "0      0.851  0.015267  0.294872\n",
      "   threshold       fpr       tpr\n",
      "0      0.852  0.015267  0.294872\n",
      "   threshold       fpr       tpr\n",
      "0      0.853  0.015267  0.294872\n",
      "   threshold       fpr       tpr\n",
      "0      0.854  0.015267  0.294872\n",
      "   threshold       fpr       tpr\n",
      "0      0.855  0.015267  0.294872\n",
      "   threshold       fpr       tpr\n",
      "0      0.856  0.015267  0.294872\n",
      "   threshold       fpr       tpr\n",
      "0      0.857  0.015267  0.294872\n",
      "   threshold       fpr       tpr\n",
      "0      0.858  0.015267  0.282051\n",
      "   threshold       fpr       tpr\n",
      "0      0.859  0.015267  0.282051\n",
      "   threshold       fpr       tpr\n",
      "0       0.86  0.015267  0.282051\n",
      "   threshold       fpr       tpr\n",
      "0      0.861  0.015267  0.282051\n",
      "   threshold       fpr       tpr\n",
      "0      0.862  0.015267  0.282051\n",
      "   threshold       fpr       tpr\n",
      "0      0.863  0.015267  0.282051\n",
      "   threshold       fpr       tpr\n"
     ]
    },
    {
     "name": "stdout",
     "output_type": "stream",
     "text": [
      "0      0.864  0.015267  0.282051\n",
      "   threshold       fpr       tpr\n",
      "0      0.865  0.015267  0.282051\n",
      "   threshold       fpr       tpr\n",
      "0      0.866  0.015267  0.269231\n",
      "   threshold       fpr       tpr\n",
      "0      0.867  0.015267  0.269231\n",
      "   threshold       fpr       tpr\n",
      "0      0.868  0.015267  0.269231\n",
      "   threshold       fpr       tpr\n",
      "0      0.869  0.015267  0.269231\n",
      "   threshold       fpr       tpr\n",
      "0       0.87  0.015267  0.269231\n",
      "   threshold       fpr       tpr\n",
      "0      0.871  0.015267  0.269231\n",
      "   threshold       fpr       tpr\n",
      "0      0.872  0.015267  0.269231\n",
      "   threshold       fpr       tpr\n",
      "0      0.873  0.015267  0.269231\n",
      "   threshold       fpr       tpr\n",
      "0      0.874  0.015267  0.269231\n",
      "   threshold       fpr       tpr\n",
      "0      0.875  0.015267  0.269231\n",
      "   threshold       fpr       tpr\n",
      "0      0.876  0.015267  0.269231\n",
      "   threshold       fpr       tpr\n",
      "0      0.877  0.015267  0.269231\n",
      "   threshold       fpr       tpr\n",
      "0      0.878  0.015267  0.269231\n",
      "   threshold       fpr       tpr\n",
      "0      0.879  0.015267  0.269231\n",
      "   threshold       fpr       tpr\n",
      "0       0.88  0.007634  0.269231\n",
      "   threshold       fpr       tpr\n",
      "0      0.881  0.007634  0.269231\n",
      "   threshold       fpr       tpr\n",
      "0      0.882  0.007634  0.269231\n",
      "   threshold       fpr       tpr\n",
      "0      0.883  0.007634  0.269231\n",
      "   threshold       fpr       tpr\n",
      "0      0.884  0.007634  0.269231\n",
      "   threshold       fpr       tpr\n",
      "0      0.885  0.007634  0.269231\n",
      "   threshold       fpr       tpr\n",
      "0      0.886  0.007634  0.269231\n",
      "   threshold       fpr       tpr\n",
      "0      0.887  0.007634  0.269231\n",
      "   threshold       fpr       tpr\n",
      "0      0.888  0.007634  0.269231\n",
      "   threshold       fpr       tpr\n",
      "0      0.889  0.007634  0.269231\n",
      "   threshold       fpr       tpr\n",
      "0       0.89  0.007634  0.269231\n",
      "   threshold       fpr       tpr\n",
      "0      0.891  0.007634  0.269231\n",
      "   threshold       fpr       tpr\n",
      "0      0.892  0.007634  0.269231\n",
      "   threshold       fpr       tpr\n",
      "0      0.893  0.007634  0.269231\n",
      "   threshold       fpr       tpr\n",
      "0      0.894  0.007634  0.269231\n",
      "   threshold       fpr       tpr\n",
      "0      0.895  0.007634  0.269231\n",
      "   threshold       fpr       tpr\n",
      "0      0.896  0.007634  0.269231\n",
      "   threshold       fpr       tpr\n",
      "0      0.897  0.007634  0.269231\n",
      "   threshold       fpr       tpr\n",
      "0      0.898  0.007634  0.269231\n",
      "   threshold       fpr       tpr\n",
      "0      0.899  0.007634  0.269231\n",
      "   threshold       fpr       tpr\n",
      "0        0.9  0.007634  0.269231\n",
      "   threshold       fpr       tpr\n",
      "0      0.901  0.007634  0.269231\n",
      "   threshold       fpr       tpr\n",
      "0      0.902  0.007634  0.269231\n",
      "   threshold       fpr       tpr\n",
      "0      0.903  0.007634  0.269231\n",
      "   threshold       fpr       tpr\n",
      "0      0.904  0.007634  0.269231\n",
      "   threshold       fpr       tpr\n",
      "0      0.905  0.007634  0.269231\n",
      "   threshold       fpr       tpr\n",
      "0      0.906  0.007634  0.269231\n",
      "   threshold       fpr       tpr\n",
      "0      0.907  0.007634  0.269231\n",
      "   threshold       fpr       tpr\n",
      "0      0.908  0.007634  0.269231\n",
      "   threshold       fpr       tpr\n",
      "0      0.909  0.007634  0.269231\n",
      "   threshold       fpr      tpr\n",
      "0       0.91  0.007634  0.25641\n",
      "   threshold       fpr      tpr\n",
      "0      0.911  0.007634  0.25641\n",
      "   threshold       fpr      tpr\n",
      "0      0.912  0.007634  0.25641\n",
      "   threshold       fpr      tpr\n",
      "0      0.913  0.007634  0.25641\n",
      "   threshold       fpr      tpr\n",
      "0      0.914  0.007634  0.25641\n",
      "   threshold       fpr      tpr\n",
      "0      0.915  0.007634  0.25641\n",
      "   threshold       fpr      tpr\n",
      "0      0.916  0.007634  0.24359\n",
      "   threshold       fpr      tpr\n",
      "0      0.917  0.007634  0.24359\n",
      "   threshold       fpr      tpr\n",
      "0      0.918  0.007634  0.24359\n",
      "   threshold       fpr      tpr\n",
      "0      0.919  0.007634  0.24359\n",
      "   threshold       fpr      tpr\n",
      "0       0.92  0.007634  0.24359\n",
      "   threshold       fpr      tpr\n",
      "0      0.921  0.007634  0.24359\n",
      "   threshold       fpr      tpr\n",
      "0      0.922  0.007634  0.24359\n",
      "   threshold       fpr      tpr\n",
      "0      0.923  0.007634  0.24359\n",
      "   threshold       fpr      tpr\n",
      "0      0.924  0.007634  0.24359\n",
      "   threshold       fpr      tpr\n",
      "0      0.925  0.007634  0.24359\n",
      "   threshold       fpr      tpr\n",
      "0      0.926  0.007634  0.24359\n",
      "   threshold       fpr      tpr\n",
      "0      0.927  0.007634  0.24359\n",
      "   threshold       fpr      tpr\n",
      "0      0.928  0.007634  0.24359\n",
      "   threshold       fpr      tpr\n",
      "0      0.929  0.007634  0.24359\n",
      "   threshold       fpr      tpr\n",
      "0       0.93  0.007634  0.24359\n",
      "   threshold       fpr       tpr\n",
      "0      0.931  0.007634  0.230769\n",
      "   threshold       fpr       tpr\n",
      "0      0.932  0.007634  0.230769\n",
      "   threshold       fpr       tpr\n",
      "0      0.933  0.007634  0.230769\n",
      "   threshold       fpr       tpr\n",
      "0      0.934  0.007634  0.217949\n",
      "   threshold       fpr       tpr\n",
      "0      0.935  0.007634  0.217949\n",
      "   threshold       fpr       tpr\n",
      "0      0.936  0.007634  0.217949\n",
      "   threshold       fpr       tpr\n",
      "0      0.937  0.007634  0.217949\n",
      "   threshold       fpr       tpr\n",
      "0      0.938  0.007634  0.217949\n",
      "   threshold       fpr       tpr\n",
      "0      0.939  0.007634  0.217949\n",
      "   threshold       fpr       tpr\n",
      "0       0.94  0.007634  0.192308\n",
      "   threshold       fpr       tpr\n",
      "0      0.941  0.007634  0.179487\n",
      "   threshold       fpr       tpr\n",
      "0      0.942  0.007634  0.166667\n",
      "   threshold       fpr       tpr\n",
      "0      0.943  0.007634  0.166667\n",
      "   threshold       fpr       tpr\n",
      "0      0.944  0.007634  0.166667\n",
      "   threshold       fpr       tpr\n",
      "0      0.945  0.007634  0.166667\n",
      "   threshold       fpr       tpr\n",
      "0      0.946  0.007634  0.166667\n",
      "   threshold       fpr       tpr\n",
      "0      0.947  0.007634  0.166667\n",
      "   threshold       fpr       tpr\n",
      "0      0.948  0.007634  0.166667\n",
      "   threshold       fpr       tpr\n",
      "0      0.949  0.007634  0.166667\n",
      "   threshold       fpr       tpr\n",
      "0       0.95  0.007634  0.153846\n",
      "   threshold       fpr       tpr\n",
      "0      0.951  0.007634  0.153846\n",
      "   threshold       fpr       tpr\n",
      "0      0.952  0.007634  0.153846\n",
      "   threshold       fpr       tpr\n",
      "0      0.953  0.007634  0.153846\n",
      "   threshold       fpr       tpr\n",
      "0      0.954  0.007634  0.153846\n",
      "   threshold       fpr       tpr\n",
      "0      0.955  0.007634  0.153846\n",
      "   threshold       fpr       tpr\n",
      "0      0.956  0.007634  0.153846\n",
      "   threshold       fpr       tpr\n",
      "0      0.957  0.007634  0.141026\n",
      "   threshold       fpr       tpr\n",
      "0      0.958  0.007634  0.141026\n",
      "   threshold       fpr       tpr\n",
      "0      0.959  0.007634  0.141026\n",
      "   threshold       fpr       tpr\n",
      "0       0.96  0.007634  0.141026\n",
      "   threshold       fpr       tpr\n",
      "0      0.961  0.007634  0.141026\n",
      "   threshold       fpr       tpr\n",
      "0      0.962  0.007634  0.141026\n",
      "   threshold       fpr       tpr\n",
      "0      0.963  0.007634  0.141026\n",
      "   threshold       fpr       tpr\n",
      "0      0.964  0.007634  0.141026\n",
      "   threshold       fpr       tpr\n",
      "0      0.965  0.007634  0.141026\n",
      "   threshold       fpr       tpr\n",
      "0      0.966  0.007634  0.141026\n",
      "   threshold       fpr       tpr\n",
      "0      0.967  0.007634  0.141026\n",
      "   threshold       fpr       tpr\n",
      "0      0.968  0.007634  0.141026\n",
      "   threshold       fpr       tpr\n",
      "0      0.969  0.007634  0.141026\n",
      "   threshold       fpr       tpr\n",
      "0       0.97  0.007634  0.141026\n",
      "   threshold       fpr       tpr\n",
      "0      0.971  0.007634  0.141026\n",
      "   threshold       fpr       tpr\n",
      "0      0.972  0.007634  0.141026\n",
      "   threshold       fpr       tpr\n",
      "0      0.973  0.007634  0.141026\n",
      "   threshold       fpr       tpr\n",
      "0      0.974  0.007634  0.141026\n",
      "   threshold       fpr       tpr\n",
      "0      0.975  0.007634  0.141026\n",
      "   threshold       fpr       tpr\n",
      "0      0.976  0.007634  0.141026\n",
      "   threshold       fpr       tpr\n",
      "0      0.977  0.007634  0.141026\n",
      "   threshold       fpr       tpr\n",
      "0      0.978  0.007634  0.141026\n",
      "   threshold       fpr       tpr\n",
      "0      0.979  0.007634  0.141026\n",
      "   threshold       fpr       tpr\n",
      "0       0.98  0.007634  0.141026\n",
      "   threshold       fpr       tpr\n",
      "0      0.981  0.007634  0.141026\n",
      "   threshold       fpr       tpr\n",
      "0      0.982  0.007634  0.141026\n",
      "   threshold       fpr       tpr\n",
      "0      0.983  0.007634  0.128205\n",
      "   threshold       fpr       tpr\n",
      "0      0.984  0.007634  0.128205\n",
      "   threshold       fpr       tpr\n",
      "0      0.985  0.007634  0.128205\n",
      "   threshold       fpr       tpr\n",
      "0      0.986  0.007634  0.102564\n",
      "   threshold       fpr       tpr\n",
      "0      0.987  0.007634  0.102564\n",
      "   threshold       fpr       tpr\n",
      "0      0.988  0.007634  0.102564\n",
      "   threshold       fpr       tpr\n",
      "0      0.989  0.007634  0.102564\n",
      "   threshold       fpr       tpr\n",
      "0       0.99  0.007634  0.089744\n",
      "   threshold       fpr       tpr\n",
      "0      0.991  0.007634  0.076923\n",
      "   threshold       fpr       tpr\n",
      "0      0.992  0.007634  0.076923\n",
      "   threshold       fpr       tpr\n",
      "0      0.993  0.007634  0.076923\n",
      "   threshold       fpr       tpr\n"
     ]
    },
    {
     "name": "stdout",
     "output_type": "stream",
     "text": [
      "0      0.994  0.007634  0.076923\n",
      "   threshold       fpr       tpr\n",
      "0      0.995  0.007634  0.076923\n",
      "   threshold       fpr       tpr\n",
      "0      0.996  0.007634  0.064103\n",
      "   threshold       fpr       tpr\n",
      "0      0.997  0.007634  0.064103\n",
      "   threshold       fpr       tpr\n",
      "0      0.998  0.007634  0.038462\n",
      "   threshold  fpr  tpr\n",
      "0      0.999  0.0  0.0\n",
      "   threshold  fpr  tpr\n",
      "0        1.0  0.0  0.0\n",
      "   threshold  fpr  tpr\n",
      "0      1.001  0.0  0.0\n",
      "   threshold  fpr  tpr\n",
      "0      1.002  0.0  0.0\n",
      "   threshold  fpr  tpr\n",
      "0      1.003  0.0  0.0\n",
      "   threshold  fpr  tpr\n",
      "0      1.004  0.0  0.0\n",
      "   threshold  fpr  tpr\n",
      "0      1.005  0.0  0.0\n",
      "   threshold  fpr  tpr\n",
      "0      1.006  0.0  0.0\n",
      "   threshold  fpr  tpr\n",
      "0      1.007  0.0  0.0\n",
      "   threshold  fpr  tpr\n",
      "0      1.008  0.0  0.0\n",
      "   threshold  fpr  tpr\n",
      "0      1.009  0.0  0.0\n"
     ]
    }
   ],
   "source": [
    "for thresh in np.arange(0,1.01,.001):\n",
    "    print(fpr_tpr_thresh(y_test,X1_test['predictive_prob'],thresh))"
   ]
  },
  {
   "cell_type": "markdown",
   "metadata": {},
   "source": [
    "For our research purpose we want to have a model that predicts a significant number of true positives (actual high weekend drinking) with a false positive rate that doesn't exceed 15%. With this in mind we can select our threshold. \n",
    "With a threshold of 0.308 the false positive rate is 0.145038 (less than 0.15, so good for our analysis) and a true positive rate of 0.705128. So with this model and this threshold the number of observation that are actually positive (high weekend drinking) that are correctly predicted to be positive is 70.5%. The number of observation that are negative (low weekwnd drinking level) but were uncorrectly classified as positive are 14.5%."
   ]
  },
  {
   "cell_type": "markdown",
   "metadata": {},
   "source": [
    "## 8. Additional Analysis/Insight"
   ]
  },
  {
   "cell_type": "markdown",
   "metadata": {},
   "source": [
    "Fitting a multiple linear regression model for additional analysis"
   ]
  },
  {
   "cell_type": "code",
   "execution_count": 80,
   "metadata": {},
   "outputs": [
    {
     "name": "stdout",
     "output_type": "stream",
     "text": [
      "R-squared (R2) on training set: 0.2714357524003632\n",
      "Intercept: 0.3470833278111046\n",
      "Coefficients:\n",
      "           Coefficient\n",
      "age           0.002565\n",
      "absences      0.036967\n",
      "famrel       -0.008288\n",
      "studytime    -0.030856\n",
      "sex_M         0.117296\n",
      "Dalc          0.217685\n"
     ]
    }
   ],
   "source": [
    "from sklearn.linear_model import LinearRegression\n",
    "from sklearn.metrics import r2_score\n",
    "import numpy as np\n",
    "\n",
    "# Fit a multiple linear regression model\n",
    "linear_reg_model = LinearRegression()\n",
    "linear_reg_model.fit(X1_train, y_train)\n",
    "\n",
    "y_pred_train = linear_reg_model.predict(X1_train)\n",
    "\n",
    "r2_train = r2_score(y_train, y_pred_train)\n",
    "\n",
    "# Print results\n",
    "print(\"R-squared (R2) on training set:\", r2_train)\n",
    "\n",
    "# Display coefficients and intercept\n",
    "coefficients = pd.DataFrame(linear_reg_model.coef_, index=X1_train.columns, columns=['Coefficient'])\n",
    "intercept = linear_reg_model.intercept_\n",
    "print(\"Intercept:\", intercept)\n",
    "print(\"Coefficients:\")\n",
    "print(coefficients)"
   ]
  },
  {
   "cell_type": "markdown",
   "metadata": {},
   "source": [
    "The additional analysis of fitting a multiple linear regression model contributes to the secondary research goals of developing reliable interpretability into variable relationships. The coefficients of the multiple linear regression model provide insights into the direction and strength of the relationships between each explanatory variable and the response variable (weekend alcohol consumption). For example, the positive coefficient for 'Dalc' suggests that an increase in weekday alcohol consumption is associated with an increase in weekend alcohol consumption. Similarly, the negative coefficient for 'famrel' indicates that a higher rating of family relationships is associated with lower levels of weekend alcohol consumption. In addition, the coefficients allow you to identify which factors have a more substantial impact on the predicted weekend alcohol consumption. For instance, the relatively higher coefficient for 'Dalc' implies that weekday alcohol consumption is a more influential factor in predicting weekend alcohol consumption compared to other variables."
   ]
  },
  {
   "cell_type": "markdown",
   "metadata": {},
   "source": [
    "## 9. Conclusion"
   ]
  },
  {
   "cell_type": "markdown",
   "metadata": {},
   "source": [
    "The AUC value of 0.8403 suggests that the model performs well in distinguishing between students with low and high weekend alcohol consumption levels.\n",
    "The model is suitable for identifying high-risk students, which aligns with the motivation of school counselors and administrators to target intervention programs effectively. The AUC value of 0.8403 indicates a relatively high ability to discriminate between positive and negative, making it a valuable tool for identifying students at risk of problematic drinking. While the model performs well, it's essential to acknowledge that no model is perfect. The ROC curve suggests that there is a trade-off between true positive rate and specificity true negative rate. So, the model may not provide a perfect threshold for both TPR and FPR. In addition, while it is highly likely, it cannot be stated with certainty that the chosen logistic regression model is guaranteed to yield the highest possible average test AUC out of all possible models with this dataset. There are several techniques and steps that a more \"complete\" analysis might explore in search of a model with the highest average test AUC. For example, instead of just using backwards elimination with cross validation, performing techniques mentioned in option B or C or Kmeans might also made our interpretaion more accurate. As for shortcomings in our analysis, the dataset was collected in 2008 from two Portuguese schools, and its generalizability to other regions or time periods is uncertain. More recent data or data from different demographics could strengthen the model's reliability. Also, integrating external data sources, such as socioeconomic factors, could provide additional context and potentially improve model performance. External data sources, such as census data, economic indicators, or community profiles, can provide a broader context to understand the environment in which students live. For example, variables like median household income, unemployment rates, or crime rates in the students' neighborhoods can offer insights into the socioeconomic conditions that may influence drinking behaviors."
   ]
  },
  {
   "cell_type": "markdown",
   "metadata": {},
   "source": [
    "## References"
   ]
  },
  {
   "cell_type": "markdown",
   "metadata": {},
   "source": [
    "<sup>1</sup>National Research Council (US) and Institute of Medicine (US) Committee on Developing a Strategy to Reduce and Prevent Underage Drinking; Bonnie RJ, O'Connell ME, editors. Reducing Underage Drinking: A Collective Responsibility. Washington (DC): National Academies Press (US); 2004. 10, Youth-Oriented Interventions. Available from: https://www.ncbi.nlm.nih.gov/books/NBK37617/\n",
    "\n",
    "<sup>2</sup>Centers for Disease Control and Prevention. (2021, October 6). Underage Drinking. https://www.cdc.gov/alcohol/fact-sheets/underage-drinking.htm\n",
    "\n",
    "‌\n",
    "\n",
    "‌"
   ]
  },
  {
   "cell_type": "markdown",
   "metadata": {},
   "source": []
  }
 ],
 "metadata": {
  "kernelspec": {
   "display_name": "Python 3 (ipykernel)",
   "language": "python",
   "name": "python3"
  },
  "language_info": {
   "codemirror_mode": {
    "name": "ipython",
    "version": 3
   },
   "file_extension": ".py",
   "mimetype": "text/x-python",
   "name": "python",
   "nbconvert_exporter": "python",
   "pygments_lexer": "ipython3",
   "version": "3.9.12"
  },
  "vscode": {
   "interpreter": {
    "hash": "aee8b7b246df8f9039afb4144a1f6fd8d2ca17a180786b69acc140d282b71a49"
   }
  }
 },
 "nbformat": 4,
 "nbformat_minor": 4
}
